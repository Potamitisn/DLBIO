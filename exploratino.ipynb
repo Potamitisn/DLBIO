{
 "cells": [
  {
   "cell_type": "markdown",
   "metadata": {},
   "source": [
    "# Data exploration\n",
    "\n",
    "In this notebook we take the look at the data provided by the paper [\"A single-cell atlas of chromatin accessibility in the human genome\"](https://www.sciencedirect.com/science/article/pii/S0092867421012794?via%3Dihub#da0010)."
   ]
  },
  {
   "cell_type": "code",
   "execution_count": 1,
   "metadata": {},
   "outputs": [],
   "source": [
    "import pandas as pd\n",
    "import matplotlib.pyplot as plt"
   ]
  },
  {
   "cell_type": "markdown",
   "metadata": {},
   "source": [
    "## Data"
   ]
  },
  {
   "cell_type": "markdown",
   "metadata": {},
   "source": [
    "### 0.1 Cell_metadata\n",
    "This file contains metadata for each cell/barcode. It has 6 columns:\n",
    "\n",
    "1. `cellID`: unique ID.\n",
    "2. `logUMI`: log10 number of unique fragment passing QC.\n",
    "3. `tsse`: TSS enrichment\n",
    "4. `tissue`: The ID of tissue sample\n",
    "5. `cell type`: The name of the cell type\n",
    "6. `Life stage`: Fetal or Adult"
   ]
  },
  {
   "cell_type": "code",
   "execution_count": 2,
   "metadata": {},
   "outputs": [
    {
     "name": "stdout",
     "output_type": "stream",
     "text": [
      "Number of cells:  1323041\n"
     ]
    },
    {
     "data": {
      "text/html": [
       "<div>\n",
       "<style scoped>\n",
       "    .dataframe tbody tr th:only-of-type {\n",
       "        vertical-align: middle;\n",
       "    }\n",
       "\n",
       "    .dataframe tbody tr th {\n",
       "        vertical-align: top;\n",
       "    }\n",
       "\n",
       "    .dataframe thead th {\n",
       "        text-align: right;\n",
       "    }\n",
       "</style>\n",
       "<table border=\"1\" class=\"dataframe\">\n",
       "  <thead>\n",
       "    <tr style=\"text-align: right;\">\n",
       "      <th></th>\n",
       "      <th>cellID</th>\n",
       "      <th>logUMI</th>\n",
       "      <th>tsse</th>\n",
       "      <th>tissue</th>\n",
       "      <th>cell type</th>\n",
       "      <th>Life stage</th>\n",
       "    </tr>\n",
       "  </thead>\n",
       "  <tbody>\n",
       "    <tr>\n",
       "      <th>194897</th>\n",
       "      <td>thymus_sample_41_1+GTCTTGATGCAATACCTGCCGTTCCGT...</td>\n",
       "      <td>3.693287</td>\n",
       "      <td>12.754410</td>\n",
       "      <td>thymus_sample_41</td>\n",
       "      <td>Fetal Thymocyte</td>\n",
       "      <td>Fetal</td>\n",
       "    </tr>\n",
       "    <tr>\n",
       "      <th>194814</th>\n",
       "      <td>thymus_sample_41_1+GTCGTTGCTTGCGGCGCAAGATCCTTG...</td>\n",
       "      <td>3.831614</td>\n",
       "      <td>12.237762</td>\n",
       "      <td>thymus_sample_41</td>\n",
       "      <td>Fetal Thymocyte</td>\n",
       "      <td>Fetal</td>\n",
       "    </tr>\n",
       "    <tr>\n",
       "      <th>835221</th>\n",
       "      <td>pancreas_SM-JF1O6_1+GGTGGGTAGACGAAGGGATCAT</td>\n",
       "      <td>3.020361</td>\n",
       "      <td>21.067821</td>\n",
       "      <td>pancreas_SM-JF1O6</td>\n",
       "      <td>Pancreatic Acinar Cell</td>\n",
       "      <td>Adult</td>\n",
       "    </tr>\n",
       "    <tr>\n",
       "      <th>603236</th>\n",
       "      <td>intestine_sample_19_1+GTCATATTCGCGAGTTCGCCGTCG...</td>\n",
       "      <td>3.642069</td>\n",
       "      <td>12.500000</td>\n",
       "      <td>intestine_sample_19</td>\n",
       "      <td>Fetal Fibroblast (Gastrointestinal)</td>\n",
       "      <td>Fetal</td>\n",
       "    </tr>\n",
       "    <tr>\n",
       "      <th>6723</th>\n",
       "      <td>adrenal_sample_1_1+GTTCCAACTTTGACCATCAGATGAATA...</td>\n",
       "      <td>3.490239</td>\n",
       "      <td>8.522727</td>\n",
       "      <td>adrenal_sample_1</td>\n",
       "      <td>Fetal Adrenal Cortical Cell</td>\n",
       "      <td>Fetal</td>\n",
       "    </tr>\n",
       "  </tbody>\n",
       "</table>\n",
       "</div>"
      ],
      "text/plain": [
       "                                                   cellID    logUMI  \\\n",
       "194897  thymus_sample_41_1+GTCTTGATGCAATACCTGCCGTTCCGT...  3.693287   \n",
       "194814  thymus_sample_41_1+GTCGTTGCTTGCGGCGCAAGATCCTTG...  3.831614   \n",
       "835221         pancreas_SM-JF1O6_1+GGTGGGTAGACGAAGGGATCAT  3.020361   \n",
       "603236  intestine_sample_19_1+GTCATATTCGCGAGTTCGCCGTCG...  3.642069   \n",
       "6723    adrenal_sample_1_1+GTTCCAACTTTGACCATCAGATGAATA...  3.490239   \n",
       "\n",
       "             tsse               tissue                            cell type  \\\n",
       "194897  12.754410     thymus_sample_41                      Fetal Thymocyte   \n",
       "194814  12.237762     thymus_sample_41                      Fetal Thymocyte   \n",
       "835221  21.067821    pancreas_SM-JF1O6               Pancreatic Acinar Cell   \n",
       "603236  12.500000  intestine_sample_19  Fetal Fibroblast (Gastrointestinal)   \n",
       "6723     8.522727     adrenal_sample_1          Fetal Adrenal Cortical Cell   \n",
       "\n",
       "       Life stage  \n",
       "194897      Fetal  \n",
       "194814      Fetal  \n",
       "835221      Adult  \n",
       "603236      Fetal  \n",
       "6723        Fetal  "
      ]
     },
     "metadata": {},
     "output_type": "display_data"
    },
    {
     "data": {
      "image/png": "[encoded data removed]",
      "text/plain": [
       "<Figure size 1700x400 with 3 Axes>"
      ]
     },
     "metadata": {},
     "output_type": "display_data"
    }
   ],
   "source": [
    "cell_metadata = pd.read_csv('data/Cell_metadata.tsv.gz', sep='\\t', compression='gzip')\n",
    "print(\"Number of cells: \", len(cell_metadata))\n",
    "display(cell_metadata.sample(5))\n",
    "fig, axs = plt.subplots(1,3, figsize=(17, 4))\n",
    "plt.subplot(1, 3, 1)\n",
    "plot1 = cell_metadata[\"tissue\"].value_counts().plot.bar(title=\"Distribution of cells across tissues\", )\n",
    "no_ticks = plot1.set_xticklabels([])\n",
    "plt.subplot(1, 3, 2)\n",
    "plot2 = cell_metadata[\"cell type\"].value_counts().plot.bar(title=\"Distribution of cells across cell types\", )\n",
    "no_ticks = plot2.set_xticklabels([])\n",
    "plt.subplot(1, 3, 3)\n",
    "plot3 = cell_metadata[\"Life stage\"].value_counts().plot.bar(title=\"Distribution of cells across life stages\", )\n"
   ]
  },
  {
   "cell_type": "markdown",
   "metadata": {},
   "source": [
    "### 0.2 Cell_ontology\n",
    "Matching between annotated cell type names and cell ontology terms."
   ]
  },
  {
   "cell_type": "code",
   "execution_count": 3,
   "metadata": {},
   "outputs": [
    {
     "name": "stdout",
     "output_type": "stream",
     "text": [
      "Number of cell types:  222\n"
     ]
    },
    {
     "data": {
      "text/html": [
       "<div>\n",
       "<style scoped>\n",
       "    .dataframe tbody tr th:only-of-type {\n",
       "        vertical-align: middle;\n",
       "    }\n",
       "\n",
       "    .dataframe tbody tr th {\n",
       "        vertical-align: top;\n",
       "    }\n",
       "\n",
       "    .dataframe thead th {\n",
       "        text-align: right;\n",
       "    }\n",
       "</style>\n",
       "<table border=\"1\" class=\"dataframe\">\n",
       "  <thead>\n",
       "    <tr style=\"text-align: right;\">\n",
       "      <th></th>\n",
       "      <th>Cell type</th>\n",
       "      <th>closest Cell Ontology term(s)</th>\n",
       "      <th>Cell Ontology ID</th>\n",
       "    </tr>\n",
       "  </thead>\n",
       "  <tbody>\n",
       "    <tr>\n",
       "      <th>200</th>\n",
       "      <td>Fetal Inhibitory Neuron 5</td>\n",
       "      <td>inhibitory neuron</td>\n",
       "      <td>CL:0008029</td>\n",
       "    </tr>\n",
       "    <tr>\n",
       "      <th>151</th>\n",
       "      <td>Fetal Photoreceptor Cell</td>\n",
       "      <td>photoreceptor cell</td>\n",
       "      <td>CL:0000210</td>\n",
       "    </tr>\n",
       "    <tr>\n",
       "      <th>123</th>\n",
       "      <td>Fetal Endocardial Cell</td>\n",
       "      <td>endocardial cell</td>\n",
       "      <td>CL:0002350</td>\n",
       "    </tr>\n",
       "    <tr>\n",
       "      <th>29</th>\n",
       "      <td>Pancreatic Alpha Cell 2</td>\n",
       "      <td>pancreatic A cell</td>\n",
       "      <td>CL:0000171</td>\n",
       "    </tr>\n",
       "    <tr>\n",
       "      <th>157</th>\n",
       "      <td>Fetal T Lymphocyte 2 (Cytotoxic)</td>\n",
       "      <td>T cell</td>\n",
       "      <td>CL:0000084</td>\n",
       "    </tr>\n",
       "  </tbody>\n",
       "</table>\n",
       "</div>"
      ],
      "text/plain": [
       "                            Cell type closest Cell Ontology term(s)  \\\n",
       "200         Fetal Inhibitory Neuron 5             inhibitory neuron   \n",
       "151          Fetal Photoreceptor Cell            photoreceptor cell   \n",
       "123            Fetal Endocardial Cell              endocardial cell   \n",
       "29            Pancreatic Alpha Cell 2             pancreatic A cell   \n",
       "157  Fetal T Lymphocyte 2 (Cytotoxic)                        T cell   \n",
       "\n",
       "    Cell Ontology ID  \n",
       "200       CL:0008029  \n",
       "151       CL:0000210  \n",
       "123       CL:0002350  \n",
       "29        CL:0000171  \n",
       "157       CL:0000084  "
      ]
     },
     "execution_count": 3,
     "metadata": {},
     "output_type": "execute_result"
    }
   ],
   "source": [
    "cell_ontology = pd.read_csv('data/cell_ontology.tsv', sep='\\t')\n",
    "print(\"Number of cell types: \", len(cell_ontology)) # Both Fetal and Non-Fetal\n",
    "cell_ontology.sample(5)"
   ]
  },
  {
   "cell_type": "markdown",
   "metadata": {},
   "source": [
    "### 0.3 cCRE_hg38\n",
    "The list of 1,154,611 cCREs. There are 7 columns in this file:\n",
    "\n",
    "1. `chromosome`: name of the chromosome.\n",
    "2. `hg38_Start`: 0-based starting location of the cCRE in the genome (hg38).\n",
    "3. `hg38_End`: End of the cCRE in the genome (hg38).\n",
    "4. `class`: Promoter (-200 to +200 of TSS), Promoter Proximal (less) or Distal\n",
    "5. `Present in fetal tissues`: if this cCRE is detected in at least one fetal tissue\n",
    "6. `Present in adult tissues`: if this cCRE is detected in at least one adult tissue\n",
    "7. `CRE module`: The ID of CRE module that the cCRE belongs to."
   ]
  },
  {
   "cell_type": "code",
   "execution_count": 4,
   "metadata": {},
   "outputs": [
    {
     "name": "stdout",
     "output_type": "stream",
     "text": [
      "Number of cCREs:  1154611\n",
      "Number of unique chromosomes : 34\n"
     ]
    },
    {
     "data": {
      "text/html": [
       "<div>\n",
       "<style scoped>\n",
       "    .dataframe tbody tr th:only-of-type {\n",
       "        vertical-align: middle;\n",
       "    }\n",
       "\n",
       "    .dataframe tbody tr th {\n",
       "        vertical-align: top;\n",
       "    }\n",
       "\n",
       "    .dataframe thead th {\n",
       "        text-align: right;\n",
       "    }\n",
       "</style>\n",
       "<table border=\"1\" class=\"dataframe\">\n",
       "  <thead>\n",
       "    <tr style=\"text-align: right;\">\n",
       "      <th></th>\n",
       "      <th>#Chromosome</th>\n",
       "      <th>hg38_Start</th>\n",
       "      <th>hg38_End</th>\n",
       "      <th>Class</th>\n",
       "      <th>Present in fetal tissues</th>\n",
       "      <th>Present in adult tissues</th>\n",
       "      <th>CRE module</th>\n",
       "    </tr>\n",
       "  </thead>\n",
       "  <tbody>\n",
       "    <tr>\n",
       "      <th>683659</th>\n",
       "      <td>chr3</td>\n",
       "      <td>52265369</td>\n",
       "      <td>52265769</td>\n",
       "      <td>Distal</td>\n",
       "      <td>yes</td>\n",
       "      <td>yes</td>\n",
       "      <td>69</td>\n",
       "    </tr>\n",
       "    <tr>\n",
       "      <th>767037</th>\n",
       "      <td>chr4</td>\n",
       "      <td>71872218</td>\n",
       "      <td>71872618</td>\n",
       "      <td>Distal</td>\n",
       "      <td>no</td>\n",
       "      <td>yes</td>\n",
       "      <td>91</td>\n",
       "    </tr>\n",
       "    <tr>\n",
       "      <th>222064</th>\n",
       "      <td>chr12</td>\n",
       "      <td>22066230</td>\n",
       "      <td>22066630</td>\n",
       "      <td>Distal</td>\n",
       "      <td>yes</td>\n",
       "      <td>no</td>\n",
       "      <td>18</td>\n",
       "    </tr>\n",
       "    <tr>\n",
       "      <th>176200</th>\n",
       "      <td>chr11</td>\n",
       "      <td>50138133</td>\n",
       "      <td>50138533</td>\n",
       "      <td>Distal</td>\n",
       "      <td>no</td>\n",
       "      <td>yes</td>\n",
       "      <td>129</td>\n",
       "    </tr>\n",
       "    <tr>\n",
       "      <th>719905</th>\n",
       "      <td>chr3</td>\n",
       "      <td>146589903</td>\n",
       "      <td>146590303</td>\n",
       "      <td>Promoter Proximal</td>\n",
       "      <td>yes</td>\n",
       "      <td>yes</td>\n",
       "      <td>6</td>\n",
       "    </tr>\n",
       "  </tbody>\n",
       "</table>\n",
       "</div>"
      ],
      "text/plain": [
       "       #Chromosome  hg38_Start   hg38_End              Class  \\\n",
       "683659        chr3    52265369   52265769             Distal   \n",
       "767037        chr4    71872218   71872618             Distal   \n",
       "222064       chr12    22066230   22066630             Distal   \n",
       "176200       chr11    50138133   50138533             Distal   \n",
       "719905        chr3   146589903  146590303  Promoter Proximal   \n",
       "\n",
       "       Present in fetal tissues Present in adult tissues  CRE module  \n",
       "683659                      yes                      yes          69  \n",
       "767037                       no                      yes          91  \n",
       "222064                      yes                       no          18  \n",
       "176200                       no                      yes         129  \n",
       "719905                      yes                      yes           6  "
      ]
     },
     "metadata": {},
     "output_type": "display_data"
    },
    {
     "data": {
      "image/png": "[encoded data removed]",
      "text/plain": [
       "<Figure size 1700x400 with 3 Axes>"
      ]
     },
     "metadata": {},
     "output_type": "display_data"
    }
   ],
   "source": [
    "ccre_hg38 = pd.read_csv(\"data/cCRE_hg38.tsv.gz\", sep='\\t', compression='gzip')\n",
    "print(\"Number of cCREs: \", len(ccre_hg38))\n",
    "print(\"Number of unique chromosomes : {}\".format(len(ccre_hg38[\"#Chromosome\"].unique())))\n",
    "display(ccre_hg38.sample(5))\n",
    "fig, axs = plt.subplots(1,3, figsize=(17, 4))\n",
    "plt.subplot(1, 3, 1)\n",
    "plot1 = ccre_hg38[\"#Chromosome\"].value_counts().plot.bar(title=\"Distribution of cCREs across chromosomes\",)\n",
    "plt.subplot(1, 3, 2)\n",
    "plot2 = ccre_hg38[\"CRE module\"].value_counts().plot.bar(title=\"Distribution of cCREs across CRE modules\", )\n",
    "no_ticks = plot2.set_xticklabels([])\n",
    "plt.subplot(1, 3, 3)\n",
    "plot3 = ccre_hg38[\"Class\"].value_counts().plot.bar(title=\"Distribution of cCREs across classes\", )\n"
   ]
  },
  {
   "cell_type": "markdown",
   "metadata": {},
   "source": [
    "## 1. Cell_by_cCRE\n",
    "This directory stores raw TN5 insertion counts for each cCRE in each cell, containing three files:\n",
    "\n",
    "1. [matrix.mtx.gz](#11-matrix): count matrix in matrix market format.\n",
    "2. [features.txt.gz](#12-features): column names (cCREs) of the matrix.\n",
    "3. [barcodes.txt.gz](#13-rows): row names (cell barcodes) of the matrix."
   ]
  },
  {
   "cell_type": "markdown",
   "metadata": {},
   "source": [
    "### 1.1 Matrix\n",
    "`matrix.mtx.gz`: count matrix in matrix market format."
   ]
  },
  {
   "cell_type": "code",
   "execution_count": 5,
   "metadata": {},
   "outputs": [],
   "source": [
    "# Goota find a way to load the matrix quickly"
   ]
  },
  {
   "cell_type": "markdown",
   "metadata": {},
   "source": [
    "### 1.2 Features\n",
    "`features.txt.gz`: column names (cCREs) of the matrix."
   ]
  },
  {
   "cell_type": "code",
   "execution_count": 6,
   "metadata": {},
   "outputs": [
    {
     "name": "stdout",
     "output_type": "stream",
     "text": [
      "Number of features (cCREs):  1154611\n"
     ]
    },
    {
     "data": {
      "text/html": [
       "<div>\n",
       "<style scoped>\n",
       "    .dataframe tbody tr th:only-of-type {\n",
       "        vertical-align: middle;\n",
       "    }\n",
       "\n",
       "    .dataframe tbody tr th {\n",
       "        vertical-align: top;\n",
       "    }\n",
       "\n",
       "    .dataframe thead th {\n",
       "        text-align: right;\n",
       "    }\n",
       "</style>\n",
       "<table border=\"1\" class=\"dataframe\">\n",
       "  <thead>\n",
       "    <tr style=\"text-align: right;\">\n",
       "      <th></th>\n",
       "      <th>cCRE</th>\n",
       "    </tr>\n",
       "  </thead>\n",
       "  <tbody>\n",
       "    <tr>\n",
       "      <th>949816</th>\n",
       "      <td>chr12:113379289-113379689</td>\n",
       "    </tr>\n",
       "    <tr>\n",
       "      <th>2445</th>\n",
       "      <td>chr1:7517932-7518332</td>\n",
       "    </tr>\n",
       "    <tr>\n",
       "      <th>385736</th>\n",
       "      <td>chr2:10556358-10556758</td>\n",
       "    </tr>\n",
       "    <tr>\n",
       "      <th>217246</th>\n",
       "      <td>chr13:51684114-51684514</td>\n",
       "    </tr>\n",
       "    <tr>\n",
       "      <th>131616</th>\n",
       "      <td>chr11:37356965-37357365</td>\n",
       "    </tr>\n",
       "  </tbody>\n",
       "</table>\n",
       "</div>"
      ],
      "text/plain": [
       "                             cCRE\n",
       "949816  chr12:113379289-113379689\n",
       "2445         chr1:7517932-7518332\n",
       "385736     chr2:10556358-10556758\n",
       "217246    chr13:51684114-51684514\n",
       "131616    chr11:37356965-37357365"
      ]
     },
     "execution_count": 6,
     "metadata": {},
     "output_type": "execute_result"
    }
   ],
   "source": [
    "features = pd.read_csv(\"data/Cell_by_cCRE/features.txt.gz\", sep='\\t', compression='gzip', header=None).rename(columns={0: \"cCRE\"})\n",
    "print(\"Number of features (cCREs): \", len(features))\n",
    "features.sample(5)"
   ]
  },
  {
   "cell_type": "markdown",
   "metadata": {},
   "source": [
    "### 1.3 Rows\n",
    "`barcodes.txt.gz`: row names (cell barcodes) of the matrix."
   ]
  },
  {
   "cell_type": "code",
   "execution_count": 7,
   "metadata": {},
   "outputs": [
    {
     "name": "stdout",
     "output_type": "stream",
     "text": [
      "Number of barcodes (cells):  1323041\n"
     ]
    },
    {
     "data": {
      "text/html": [
       "<div>\n",
       "<style scoped>\n",
       "    .dataframe tbody tr th:only-of-type {\n",
       "        vertical-align: middle;\n",
       "    }\n",
       "\n",
       "    .dataframe tbody tr th {\n",
       "        vertical-align: top;\n",
       "    }\n",
       "\n",
       "    .dataframe thead th {\n",
       "        text-align: right;\n",
       "    }\n",
       "</style>\n",
       "<table border=\"1\" class=\"dataframe\">\n",
       "  <thead>\n",
       "    <tr style=\"text-align: right;\">\n",
       "      <th></th>\n",
       "      <th>cell</th>\n",
       "      <th>tissue?</th>\n",
       "      <th>no idea wha this is</th>\n",
       "    </tr>\n",
       "  </thead>\n",
       "  <tbody>\n",
       "    <tr>\n",
       "      <th>988848</th>\n",
       "      <td>lung_sample_47_1+ATTAGTAACGCTTCAGGCCACCAATTCCA...</td>\n",
       "      <td>lung_sample_47_1</td>\n",
       "      <td>ATTAGTAACGCTTCAGGCCACCAATTCCATTTCTATTAAT</td>\n",
       "    </tr>\n",
       "    <tr>\n",
       "      <th>998198</th>\n",
       "      <td>lung_sample_68_1+GGTTCGTACCCAACGGTCTTTTGGCCAGG...</td>\n",
       "      <td>lung_sample_68_1</td>\n",
       "      <td>GGTTCGTACCCAACGGTCTTTTGGCCAGGTCATCATAGCA</td>\n",
       "    </tr>\n",
       "    <tr>\n",
       "      <th>134413</th>\n",
       "      <td>islet_CB1_1+CTGAAGCTGGACTCCTGTAAGGAGGGTTG</td>\n",
       "      <td>islet_CB1_1</td>\n",
       "      <td>CTGAAGCTGGACTCCTGTAAGGAGGGTTG</td>\n",
       "    </tr>\n",
       "    <tr>\n",
       "      <th>333657</th>\n",
       "      <td>thyroid_SM-JF1O4_1+TGAGCGAGTAGAAGCACTCATT</td>\n",
       "      <td>thyroid_SM-JF1O4_1</td>\n",
       "      <td>TGAGCGAGTAGAAGCACTCATT</td>\n",
       "    </tr>\n",
       "    <tr>\n",
       "      <th>490627</th>\n",
       "      <td>esophagus_muscularis_SM-A8CPH_1+TTATGGATGCGGGC...</td>\n",
       "      <td>esophagus_muscularis_SM-A8CPH_1</td>\n",
       "      <td>TTATGGATGCGGGCTAGGAGAT</td>\n",
       "    </tr>\n",
       "  </tbody>\n",
       "</table>\n",
       "</div>"
      ],
      "text/plain": [
       "                                                     cell  \\\n",
       "988848  lung_sample_47_1+ATTAGTAACGCTTCAGGCCACCAATTCCA...   \n",
       "998198  lung_sample_68_1+GGTTCGTACCCAACGGTCTTTTGGCCAGG...   \n",
       "134413          islet_CB1_1+CTGAAGCTGGACTCCTGTAAGGAGGGTTG   \n",
       "333657          thyroid_SM-JF1O4_1+TGAGCGAGTAGAAGCACTCATT   \n",
       "490627  esophagus_muscularis_SM-A8CPH_1+TTATGGATGCGGGC...   \n",
       "\n",
       "                                tissue?  \\\n",
       "988848                 lung_sample_47_1   \n",
       "998198                 lung_sample_68_1   \n",
       "134413                      islet_CB1_1   \n",
       "333657               thyroid_SM-JF1O4_1   \n",
       "490627  esophagus_muscularis_SM-A8CPH_1   \n",
       "\n",
       "                             no idea wha this is  \n",
       "988848  ATTAGTAACGCTTCAGGCCACCAATTCCATTTCTATTAAT  \n",
       "998198  GGTTCGTACCCAACGGTCTTTTGGCCAGGTCATCATAGCA  \n",
       "134413             CTGAAGCTGGACTCCTGTAAGGAGGGTTG  \n",
       "333657                    TGAGCGAGTAGAAGCACTCATT  \n",
       "490627                    TTATGGATGCGGGCTAGGAGAT  "
      ]
     },
     "execution_count": 7,
     "metadata": {},
     "output_type": "execute_result"
    }
   ],
   "source": [
    "barcodes = pd.read_csv(\"data/Cell_by_cCRE/barcodes.txt.gz\", sep='\\t', compression='gzip', header=None).rename(columns={0: \"cell\"})\n",
    "print(\"Number of barcodes (cells): \", len(barcodes))\n",
    "# I remember talking about splitting the barcodes ? \n",
    "barcodes = pd.concat([barcodes, barcodes.cell.str.split(\"+\", expand=True).rename(columns={0: \"tissue?\", 1: \"no idea wha this is\"})], axis=1)\n",
    "barcodes.sample(5)"
   ]
  },
  {
   "cell_type": "markdown",
   "metadata": {},
   "source": [
    "## 2. Cell_by_gene\n",
    "This directory stores raw TN5 insertion counts for each promoter region in each cell, containing three files:\n",
    "\n",
    "1. [matrix.mtx.gz](#21-matrix): count matrix in matrix market format.\n",
    "2. [features.txt.gz](#22-features): column names (genes) of the matrix.\n",
    "3. [barcodes.txt.gz](#23-rows): row names (cell barcodes) of the matrix."
   ]
  },
  {
   "cell_type": "markdown",
   "metadata": {},
   "source": [
    "### 2.1 Matrix\n",
    "`matrix.mtx.gz`: count matrix in matrix market format."
   ]
  },
  {
   "cell_type": "code",
   "execution_count": 8,
   "metadata": {},
   "outputs": [],
   "source": [
    "# Goota find a way to load the matrix quickly"
   ]
  },
  {
   "cell_type": "markdown",
   "metadata": {},
   "source": [
    "### 2.2 Features \n",
    "`features.txt.gz`: column names (genes) of the matrix.\n"
   ]
  },
  {
   "cell_type": "code",
   "execution_count": 9,
   "metadata": {},
   "outputs": [
    {
     "name": "stdout",
     "output_type": "stream",
     "text": [
      "Number of features (genes): 60583\n"
     ]
    },
    {
     "data": {
      "text/html": [
       "<div>\n",
       "<style scoped>\n",
       "    .dataframe tbody tr th:only-of-type {\n",
       "        vertical-align: middle;\n",
       "    }\n",
       "\n",
       "    .dataframe tbody tr th {\n",
       "        vertical-align: top;\n",
       "    }\n",
       "\n",
       "    .dataframe thead th {\n",
       "        text-align: right;\n",
       "    }\n",
       "</style>\n",
       "<table border=\"1\" class=\"dataframe\">\n",
       "  <thead>\n",
       "    <tr style=\"text-align: right;\">\n",
       "      <th></th>\n",
       "      <th>gene</th>\n",
       "    </tr>\n",
       "  </thead>\n",
       "  <tbody>\n",
       "    <tr>\n",
       "      <th>33456</th>\n",
       "      <td>IGFL1P2</td>\n",
       "    </tr>\n",
       "    <tr>\n",
       "      <th>54088</th>\n",
       "      <td>SMG1P7</td>\n",
       "    </tr>\n",
       "    <tr>\n",
       "      <th>28667</th>\n",
       "      <td>DUTP8</td>\n",
       "    </tr>\n",
       "    <tr>\n",
       "      <th>14412</th>\n",
       "      <td>AC233702.3</td>\n",
       "    </tr>\n",
       "    <tr>\n",
       "      <th>16044</th>\n",
       "      <td>AL031778.1</td>\n",
       "    </tr>\n",
       "  </tbody>\n",
       "</table>\n",
       "</div>"
      ],
      "text/plain": [
       "             gene\n",
       "33456     IGFL1P2\n",
       "54088      SMG1P7\n",
       "28667       DUTP8\n",
       "14412  AC233702.3\n",
       "16044  AL031778.1"
      ]
     },
     "execution_count": 9,
     "metadata": {},
     "output_type": "execute_result"
    }
   ],
   "source": [
    "features = pd.read_csv(\"data/Cell_by_gene/features.txt.gz\", sep='\\t', compression='gzip', header=None)\n",
    "features.rename(columns={0: \"gene\"}, inplace=True)   \n",
    "print(\"Number of features (genes): {}\".format(len(features)))\n",
    "features.sample(5)"
   ]
  },
  {
   "cell_type": "markdown",
   "metadata": {},
   "source": [
    "### 2.3 Rows\n",
    "`barcodes.txt.gz`: row names (cell barcodes) of the matrix."
   ]
  },
  {
   "cell_type": "code",
   "execution_count": 10,
   "metadata": {},
   "outputs": [
    {
     "name": "stdout",
     "output_type": "stream",
     "text": [
      "Number of barcodes (cells) : 1323041\n"
     ]
    },
    {
     "data": {
      "text/html": [
       "<div>\n",
       "<style scoped>\n",
       "    .dataframe tbody tr th:only-of-type {\n",
       "        vertical-align: middle;\n",
       "    }\n",
       "\n",
       "    .dataframe tbody tr th {\n",
       "        vertical-align: top;\n",
       "    }\n",
       "\n",
       "    .dataframe thead th {\n",
       "        text-align: right;\n",
       "    }\n",
       "</style>\n",
       "<table border=\"1\" class=\"dataframe\">\n",
       "  <thead>\n",
       "    <tr style=\"text-align: right;\">\n",
       "      <th></th>\n",
       "      <th>cell</th>\n",
       "    </tr>\n",
       "  </thead>\n",
       "  <tbody>\n",
       "    <tr>\n",
       "      <th>1198786</th>\n",
       "      <td>adipose_omentum_SM-CSSD4_1+AACGACCAAACCTCGTCAGAAC</td>\n",
       "    </tr>\n",
       "    <tr>\n",
       "      <th>246772</th>\n",
       "      <td>lung_sample_38_1+CTCAAGTCTGCTAGCTTCTTGCCAGACTC...</td>\n",
       "    </tr>\n",
       "    <tr>\n",
       "      <th>526306</th>\n",
       "      <td>liver_sample_40_1+TTCTATAGTTTTCCATTCTTCTCTTCCA...</td>\n",
       "    </tr>\n",
       "    <tr>\n",
       "      <th>702056</th>\n",
       "      <td>liver_sample_35_1+TGATGCTGATATATCTTCCGTATGCTTA...</td>\n",
       "    </tr>\n",
       "    <tr>\n",
       "      <th>527050</th>\n",
       "      <td>liver_sample_40_1+TTGGCTACTAGGCTGGCTCTTAACTGGC...</td>\n",
       "    </tr>\n",
       "  </tbody>\n",
       "</table>\n",
       "</div>"
      ],
      "text/plain": [
       "                                                      cell\n",
       "1198786  adipose_omentum_SM-CSSD4_1+AACGACCAAACCTCGTCAGAAC\n",
       "246772   lung_sample_38_1+CTCAAGTCTGCTAGCTTCTTGCCAGACTC...\n",
       "526306   liver_sample_40_1+TTCTATAGTTTTCCATTCTTCTCTTCCA...\n",
       "702056   liver_sample_35_1+TGATGCTGATATATCTTCCGTATGCTTA...\n",
       "527050   liver_sample_40_1+TTGGCTACTAGGCTGGCTCTTAACTGGC..."
      ]
     },
     "execution_count": 10,
     "metadata": {},
     "output_type": "execute_result"
    }
   ],
   "source": [
    "barcodes = pd.read_csv(\"data/Cell_by_gene/barcodes.txt.gz\", sep='\\t', compression='gzip', header=None).rename(columns={0: \"cell\"})\n",
    "print(\"Number of barcodes (cells) : {}\".format(len(barcodes)))\n",
    "barcodes.sample(5)"
   ]
  },
  {
   "cell_type": "markdown",
   "metadata": {},
   "source": [
    "## 3. cCRE_by_cell_type\n",
    "This directory stores cCRE by cell type, containing three files:\n",
    "\n",
    "1. [matrix.mtx.gz](#31-matrix): matrix in matrix market format, each line represents a cCRE-cell type pair. For example, \"2 22\" means cCRE No. 2 is accessibile in cell type No. 22.\n",
    "2. [celltypes.txt.gz](#32-features): column names (cell types) of the matrix.\n",
    "3. [cCREs.bed.gz](#33-rows): row names (cCREs) of the matrix.\n"
   ]
  },
  {
   "cell_type": "markdown",
   "metadata": {},
   "source": [
    "### 3.1 Matrix\n",
    "\n",
    "<a name=\"my-custom-anchor\"></a>"
   ]
  },
  {
   "cell_type": "markdown",
   "metadata": {},
   "source": [
    "`matrix.mtx.gz`: matrix in matrix market format, each line represents a cCRE-cell type pair. For example, \"2 22\" means cCRE No. 2 is accessibile in cell type No. 22."
   ]
  },
  {
   "cell_type": "code",
   "execution_count": 11,
   "metadata": {},
   "outputs": [],
   "source": [
    "# Gotta find a way to load the matrix quickly"
   ]
  },
  {
   "cell_type": "markdown",
   "metadata": {},
   "source": [
    "### 3.2 Features\n",
    "`celltypes.txt.gz`: column names (cell types) of the matrix."
   ]
  },
  {
   "cell_type": "code",
   "execution_count": 12,
   "metadata": {},
   "outputs": [
    {
     "name": "stdout",
     "output_type": "stream",
     "text": [
      "Number of features (cell types) : 222\n"
     ]
    },
    {
     "data": {
      "text/html": [
       "<div>\n",
       "<style scoped>\n",
       "    .dataframe tbody tr th:only-of-type {\n",
       "        vertical-align: middle;\n",
       "    }\n",
       "\n",
       "    .dataframe tbody tr th {\n",
       "        vertical-align: top;\n",
       "    }\n",
       "\n",
       "    .dataframe thead th {\n",
       "        text-align: right;\n",
       "    }\n",
       "</style>\n",
       "<table border=\"1\" class=\"dataframe\">\n",
       "  <thead>\n",
       "    <tr style=\"text-align: right;\">\n",
       "      <th></th>\n",
       "      <th>cell_type</th>\n",
       "    </tr>\n",
       "  </thead>\n",
       "  <tbody>\n",
       "    <tr>\n",
       "      <th>140</th>\n",
       "      <td>Fetal Enterocyte 2</td>\n",
       "    </tr>\n",
       "    <tr>\n",
       "      <th>177</th>\n",
       "      <td>Fetal Astrocyte 4</td>\n",
       "    </tr>\n",
       "    <tr>\n",
       "      <th>198</th>\n",
       "      <td>Fetal Excitatory Neuron 11</td>\n",
       "    </tr>\n",
       "    <tr>\n",
       "      <th>36</th>\n",
       "      <td>Mammary Luminal Epi 2</td>\n",
       "    </tr>\n",
       "    <tr>\n",
       "      <th>54</th>\n",
       "      <td>Keratinocyte 2</td>\n",
       "    </tr>\n",
       "  </tbody>\n",
       "</table>\n",
       "</div>"
      ],
      "text/plain": [
       "                      cell_type\n",
       "140          Fetal Enterocyte 2\n",
       "177           Fetal Astrocyte 4\n",
       "198  Fetal Excitatory Neuron 11\n",
       "36        Mammary Luminal Epi 2\n",
       "54               Keratinocyte 2"
      ]
     },
     "execution_count": 12,
     "metadata": {},
     "output_type": "execute_result"
    }
   ],
   "source": [
    "celltypes = pd.read_csv(\"data/cCRE_by_cell_type/celltypes.txt.gz\", sep='\\t', compression='gzip', header=None).rename(columns={0: \"cell_type\"})\n",
    "print(\"Number of features (cell types) : {}\".format(len(celltypes)))\n",
    "celltypes.sample(5)"
   ]
  },
  {
   "cell_type": "markdown",
   "metadata": {},
   "source": [
    "### 3.3 Rows\n",
    "`cCREs.bed.gz`: row names (cCREs) of the matrix."
   ]
  },
  {
   "cell_type": "code",
   "execution_count": 13,
   "metadata": {},
   "outputs": [
    {
     "name": "stdout",
     "output_type": "stream",
     "text": [
      "Number of rows (cCREs) : 1154611\n"
     ]
    },
    {
     "data": {
      "text/html": [
       "<div>\n",
       "<style scoped>\n",
       "    .dataframe tbody tr th:only-of-type {\n",
       "        vertical-align: middle;\n",
       "    }\n",
       "\n",
       "    .dataframe tbody tr th {\n",
       "        vertical-align: top;\n",
       "    }\n",
       "\n",
       "    .dataframe thead th {\n",
       "        text-align: right;\n",
       "    }\n",
       "</style>\n",
       "<table border=\"1\" class=\"dataframe\">\n",
       "  <thead>\n",
       "    <tr style=\"text-align: right;\">\n",
       "      <th></th>\n",
       "      <th>chrom</th>\n",
       "      <th>start</th>\n",
       "      <th>end</th>\n",
       "    </tr>\n",
       "  </thead>\n",
       "  <tbody>\n",
       "    <tr>\n",
       "      <th>629209</th>\n",
       "      <td>chr21</td>\n",
       "      <td>16294108</td>\n",
       "      <td>16294508</td>\n",
       "    </tr>\n",
       "    <tr>\n",
       "      <th>562147</th>\n",
       "      <td>chr2</td>\n",
       "      <td>157545336</td>\n",
       "      <td>157545736</td>\n",
       "    </tr>\n",
       "    <tr>\n",
       "      <th>371301</th>\n",
       "      <td>chr15</td>\n",
       "      <td>93523502</td>\n",
       "      <td>93523902</td>\n",
       "    </tr>\n",
       "    <tr>\n",
       "      <th>75685</th>\n",
       "      <td>chr1</td>\n",
       "      <td>200706115</td>\n",
       "      <td>200706515</td>\n",
       "    </tr>\n",
       "    <tr>\n",
       "      <th>192566</th>\n",
       "      <td>chr11</td>\n",
       "      <td>92416754</td>\n",
       "      <td>92417154</td>\n",
       "    </tr>\n",
       "  </tbody>\n",
       "</table>\n",
       "</div>"
      ],
      "text/plain": [
       "        chrom      start        end\n",
       "629209  chr21   16294108   16294508\n",
       "562147   chr2  157545336  157545736\n",
       "371301  chr15   93523502   93523902\n",
       "75685    chr1  200706115  200706515\n",
       "192566  chr11   92416754   92417154"
      ]
     },
     "execution_count": 13,
     "metadata": {},
     "output_type": "execute_result"
    }
   ],
   "source": [
    "ccres = pd.read_csv(\"data/cCRE_by_cell_type/cCREs.bed.gz\", sep='\\t', compression='gzip', header=None).rename(columns={0: \"chrom\", 1: \"start\", 2: \"end\", 3: \"cCRE\"})\n",
    "print(\"Number of rows (cCREs) : {}\".format(len(ccres)))\n",
    "ccres.sample(5)"
   ]
  },
  {
   "cell_type": "markdown",
   "metadata": {},
   "source": [
    "<a name=\"pookie\"></a>\n"
   ]
  }
 ],
 "metadata": {
  "kernelspec": {
   "display_name": "Python 3",
   "language": "python",
   "name": "python3"
  },
  "language_info": {
   "codemirror_mode": {
    "name": "ipython",
    "version": 3
   },
   "file_extension": ".py",
   "mimetype": "text/x-python",
   "name": "python",
   "nbconvert_exporter": "python",
   "pygments_lexer": "ipython3",
   "version": "3.11.5"
  }
 },
 "nbformat": 4,
 "nbformat_minor": 2
}
