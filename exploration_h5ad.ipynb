{
 "cells": [
  {
   "cell_type": "markdown",
   "id": "b9b244e8-3bc5-4305-99a0-38aab307567e",
   "metadata": {},
   "source": [
    "# Load h5ad data with scanpy"
   ]
  },
  {
   "cell_type": "markdown",
   "id": "db6119dc-c229-41d6-b32f-82eeed4277af",
   "metadata": {},
   "source": [
    "[Scanpy](https://scanpy.readthedocs.io/en/stable/index.html) – a package for Single-Cell Analysis in Python. It provides a [function](https://scanpy.readthedocs.io/en/stable/generated/scanpy.read_h5ad.html#scanpy.read_h5ad\n",
    ") to load data in h5ad format. The paper also provides the sparse matrix (mtx.gz) in [h5ad format](http://catlas.org/catlas_downloads/humantissues/Cell_by_cCRE/).\n",
    "\n",
    "**Note:** a customized function is provided in the fewshotbench example"
   ]
  },
  {
   "cell_type": "code",
   "execution_count": 1,
   "id": "665b674f-0b86-4931-9840-f614f1d1998d",
   "metadata": {},
   "outputs": [],
   "source": [
    "import scanpy\n",
    "import numpy as np"
   ]
  },
  {
   "cell_type": "code",
   "execution_count": 2,
   "id": "6497c0a8-3771-4c6f-99fe-e0929c36aae7",
   "metadata": {},
   "outputs": [
    {
     "data": {
      "text/plain": [
       "AnnData object with n_obs × n_vars = 1323041 × 1154611 backed at 'data/Cell_by_cCRE/matrix.h5ad'"
      ]
     },
     "execution_count": 2,
     "metadata": {},
     "output_type": "execute_result"
    }
   ],
   "source": [
    "# load the matrix.h5ad from http://catlas.org/catlas_downloads/humantissues/Cell_by_cCRE/ \n",
    "### NOTE: when running on google cloud VM, memory allocation seems to be an issue\n",
    "### add backed to reduce memory usage, see https://github.com/scverse/scanpy/issues/434 \n",
    "adata = scanpy.read_h5ad(\"data/Cell_by_cCRE/matrix.h5ad\", backed=\"r\")\n",
    "adata"
   ]
  },
  {
   "cell_type": "markdown",
   "id": "b4da472d-4517-4242-b37b-559bd2d26582",
   "metadata": {},
   "source": [
    "# AnnData format"
   ]
  },
  {
   "cell_type": "markdown",
   "id": "35c57b20-bfe7-455b-93e9-37dee9ba64c3",
   "metadata": {},
   "source": [
    "[Anndata](https://anndata.readthedocs.io/en/latest/tutorials/notebooks/getting-started.html) is short for annotated data. The h5ad provided in the dataset website has very minimum annotation. We can build up the layers of observation (e.g, cell type annotation given in the paper) and layers of variable (e.g, classes of the cCRE <promoter, distal etc.>)."
   ]
  },
  {
   "cell_type": "code",
   "execution_count": 3,
   "id": "171b57b4-b35a-4034-872f-38c42b010c33",
   "metadata": {},
   "outputs": [
    {
     "data": {
      "text/plain": [
       "<HDF5 sparse dataset: format 'csr', shape (1323041, 1154611), type '<i8'>"
      ]
     },
     "execution_count": 3,
     "metadata": {},
     "output_type": "execute_result"
    }
   ],
   "source": [
    "# initial data\n",
    "# sparse matrix of shape (#cell, #feature)\n",
    "adata.X"
   ]
  },
  {
   "cell_type": "code",
   "execution_count": 4,
   "id": "28171658-dd40-42fd-9f06-54c5d3ca38db",
   "metadata": {},
   "outputs": [
    {
     "data": {
      "text/html": [
       "<div>\n",
       "<style scoped>\n",
       "    .dataframe tbody tr th:only-of-type {\n",
       "        vertical-align: middle;\n",
       "    }\n",
       "\n",
       "    .dataframe tbody tr th {\n",
       "        vertical-align: top;\n",
       "    }\n",
       "\n",
       "    .dataframe thead th {\n",
       "        text-align: right;\n",
       "    }\n",
       "</style>\n",
       "<table border=\"1\" class=\"dataframe\">\n",
       "  <thead>\n",
       "    <tr style=\"text-align: right;\">\n",
       "      <th></th>\n",
       "    </tr>\n",
       "    <tr>\n",
       "      <th>barcodes</th>\n",
       "    </tr>\n",
       "  </thead>\n",
       "  <tbody>\n",
       "    <tr>\n",
       "      <th>LungMap_D122_1+AAACTACCAGCTGCGCTTATCC</th>\n",
       "    </tr>\n",
       "    <tr>\n",
       "      <th>LungMap_D122_1+AACTGCGCCATCCACTTGGATA</th>\n",
       "    </tr>\n",
       "    <tr>\n",
       "      <th>LungMap_D122_1+AACTTCTGCTCACCTGTAAGAC</th>\n",
       "    </tr>\n",
       "    <tr>\n",
       "      <th>LungMap_D122_1+AATTCGGATGAGATCTGTGACG</th>\n",
       "    </tr>\n",
       "    <tr>\n",
       "      <th>LungMap_D122_1+AATTCGGATGGTCCGGTCCAAA</th>\n",
       "    </tr>\n",
       "    <tr>\n",
       "      <th>...</th>\n",
       "    </tr>\n",
       "    <tr>\n",
       "      <th>spleen_sample_57_1+TTGGTTAACCCTTCAGGCCATTGGCCAGGTCCTCGTCATA</th>\n",
       "    </tr>\n",
       "    <tr>\n",
       "      <th>spleen_sample_57_1+TTGGTTGGTACGTAGCCGTAGATAGCCGATTTGCTCGATT</th>\n",
       "    </tr>\n",
       "    <tr>\n",
       "      <th>spleen_sample_57_1+TTGGTTGGTACTAAGAGTTATACCTTAGCTACCAGTTATT</th>\n",
       "    </tr>\n",
       "    <tr>\n",
       "      <th>spleen_sample_57_1+TTGGTTGGTAGCATTAGGCGCCGGTCCTAATTGCTCGATT</th>\n",
       "    </tr>\n",
       "    <tr>\n",
       "      <th>thymus_sample_2_1+TAGCATTGATCTGGCAGCGGTTCTGGCGCAACTTAAGATA</th>\n",
       "    </tr>\n",
       "  </tbody>\n",
       "</table>\n",
       "<p>1323041 rows × 0 columns</p>\n",
       "</div>"
      ],
      "text/plain": [
       "Empty DataFrame\n",
       "Columns: []\n",
       "Index: [LungMap_D122_1+AAACTACCAGCTGCGCTTATCC, LungMap_D122_1+AACTGCGCCATCCACTTGGATA, LungMap_D122_1+AACTTCTGCTCACCTGTAAGAC, LungMap_D122_1+AATTCGGATGAGATCTGTGACG, LungMap_D122_1+AATTCGGATGGTCCGGTCCAAA, LungMap_D122_1+ACATACCAGGGCATGTATCCTT, LungMap_D122_1+ACGATGTACTTCGAGCATTATG, LungMap_D122_1+ACTAAGACGACACTTCTCCTAC, LungMap_D122_1+ACTCGCTAAATTAGTGCTAGCA, LungMap_D122_1+ACTGCACAGAGCAATCGGAACC, LungMap_D122_1+AGCTGGAGTAACCCGGTATTCG, LungMap_D122_1+AGGCGAATCTCCTTTCCGTATC, LungMap_D122_1+AGGCGAATCTCGCTATCTCTTG, LungMap_D122_1+ATACCTGGAGCGGCGACTAACA, LungMap_D122_1+ATCGAGTTCACGTCAATAGCTG, LungMap_D122_1+ATCTAAGGCGACTGCGACAAAG, LungMap_D122_1+ATCTAAGGCGCTTCATGTACCT, LungMap_D122_1+CCAGCACAAGTTCTCATGGTCA, LungMap_D122_1+CCAGGTCGTACAACGGCATGAG, LungMap_D122_1+CCAGGTCGTAGTACTGGACCCT, LungMap_D122_1+CCGTTCAGATAACTGCGTCTTT, LungMap_D122_1+CGACACTACATGGAACAGTCTG, LungMap_D122_1+CGATATGTAGCAGAAGGTTGTT, LungMap_D122_1+CGTAGGATATTGACTATTTCCC, LungMap_D122_1+CTCATAGTGGAGCATGCGCTTT, LungMap_D122_1+GAACATGGTCATTGCCTTCTTC, LungMap_D122_1+GACCTAAGGAAGTCTGTGTAGA, LungMap_D122_1+GCAATCCTTGAATCGAACACGT, LungMap_D122_1+GCAATCCTTGACCCGATGGCTA, LungMap_D122_1+TCAACGGAGAAGACTAGGAGGA, LungMap_D122_1+TCAACGGAGAGTCAATTCTCAG, LungMap_D122_1+TCGGGATAAAAGATACCTGGAG, LungMap_D122_1+TCTACTGGTAAATCACGCTTCG, LungMap_D122_1+TCTACTGGTACAGAATGCCTGA, LungMap_D122_1+TGAGTCATGAACATGGCAAGCC, LungMap_D122_1+TGCACATTACCCTACTAGTTAG, LungMap_D122_1+TGCACATTACTTGATGCGACCA, LungMap_D122_1+TGCAGTTGTCAGAGTGTGCCGT, LungMap_D122_1+TGCTCCATGGTGCAGATCGGCT, LungMap_D122_1+TGGTGCGCATAGAGTTTGAAGG, LungMap_D175_1+AAGCAAAGTCCTCATGTAGTCT, LungMap_D175_1+ACAGCAAGTCAAGCTCAACGCA, LungMap_D175_1+ACCCTTATCTGTGCAAACCACT, LungMap_D175_1+ACGTAGCGCAAAGACACCAACC, LungMap_D175_1+ACGTAGCGCACACTGTGTTATG, LungMap_D175_1+ACGTAGCGCATGGACATACTGG, LungMap_D175_1+AGCCATAGGGCGCTGATGATGA, LungMap_D175_1+AGCCATAGGGGATGGCAAACAT, LungMap_D175_1+AGCCATAGGGGTGTTAGGCAAT, LungMap_D175_1+AGGCTGTGAGCCACTCTAGGTC, LungMap_D175_1+ATGTAACGACACGATCCGCACT, LungMap_D175_1+ATGTAACGACGTCGAACCTATT, LungMap_D175_1+ATGTAACGACTCGAGCATTATG, LungMap_D175_1+ATGTTCACGTCAGAATGCCTGA, LungMap_D175_1+CAATGATAGCGATAGGTGTAGC, LungMap_D175_1+CAGGAAAGCATTCTCATGGTCA, LungMap_D175_1+CAGGTGAACCGTTGGAGACTAA, LungMap_D175_1+CATCCGGAACATCAGTCAAGGA, LungMap_D175_1+CCACAAATTCACCAGTTCACCC, LungMap_D175_1+CCGGGATTTCCACCTGTAAGAC, LungMap_D175_1+CCGGGATTTCCAGCTCAGGACA, LungMap_D175_1+CCTTACTCAGCCTACTAGTTAG, LungMap_D175_1+CCTTACTCAGTGCCGTCTCAAC, LungMap_D175_1+CGCCTTTACGTTCCGCTGATAT, LungMap_D175_1+CGTCAAGCAGCCACAGCGAAAC, LungMap_D175_1+CGTCTGGACTGTACAACTCTAG, LungMap_D175_1+CTATTTGCCTACCGTCCCATTC, LungMap_D175_1+CTGGTTCTCTTCTGACGGGACT, LungMap_D175_1+GACCAATCCTGCGCCTGTATAA, LungMap_D175_1+GACCAATCCTTCATCCGCGACA, LungMap_D175_1+GACCCTCAAAGGTGGCCGTATA, LungMap_D175_1+GACCTTGATGTAGCATCGATGC, LungMap_D175_1+GAGCACCACTTGAGCTAGACGC, LungMap_D175_1+GAGTGTGGTTGTCTCTGCTATT, LungMap_D175_1+GATCGGGTGATAGGCTAGTTTG, LungMap_D175_1+GCCAGTGTTGGACAATCGAGAA, LungMap_D175_1+GCTGGTAGGACTTGGCAACAGC, LungMap_D175_1+GCTTCGCATTGGGTTGAACCTA, LungMap_D175_1+GGAATTCCGATGCCGTCTCAAC, LungMap_D175_1+GTGGGCAATAGGGTTGAACCTA, LungMap_D175_1+GTGTGACCCTCGAGACGTTTAA, LungMap_D175_1+TACCGTACCTCGAAGGGATCAT, LungMap_D175_1+TACTCGATTCGAGAACGTCATA, LungMap_D175_1+TCACACGTCGTCCGCGGCTTAA, LungMap_D175_1+TCGGCTTATTACATCTCTCCCG, LungMap_D175_1+TCGGCTTATTCTTGGCAACAGC, LungMap_D175_1+TCTTGTTGCCAGGTGTGACCGT, LungMap_D175_1+TCTTGTTGCCCAATCTGGGTGT, LungMap_D175_1+TGAGCGAGTATCCACATCACTG, LungMap_D175_1+TGGCAGCAATCAAACACCACAT, LungMap_D175_1+TGGCAGCAATTGCCACTTCGCT, LungMap_D175_1+TGGCAGCAATTTAAACGCGAAG, LungMap_D175_1+TTCGTCCGACTCCACATCACTG, LungMap_D175_1+TTCGTCCGACTTAGGATGCGCG, LungMap_D231_1+AACGAGAGCTAACTTCGACCAG, LungMap_D231_1+AACGAGAGCTAGCATACTCAGC, LungMap_D231_1+AAGGAAGCCTTCACCAAACCGG, LungMap_D231_1+AATCCGTGATAGCAGTTGGTGG, LungMap_D231_1+AATCCGTGATCGCGAGAGCTAT, LungMap_D231_1+AATCCGTGATTCCCTATAGCCA, ...]\n",
       "\n",
       "[1323041 rows x 0 columns]"
      ]
     },
     "execution_count": 4,
     "metadata": {},
     "output_type": "execute_result"
    }
   ],
   "source": [
    "# obs: cell ID\n",
    "adata.obs"
   ]
  },
  {
   "cell_type": "code",
   "execution_count": 5,
   "id": "23644809-0bc7-4358-a36f-b1a53acfde17",
   "metadata": {},
   "outputs": [
    {
     "data": {
      "text/html": [
       "<div>\n",
       "<style scoped>\n",
       "    .dataframe tbody tr th:only-of-type {\n",
       "        vertical-align: middle;\n",
       "    }\n",
       "\n",
       "    .dataframe tbody tr th {\n",
       "        vertical-align: top;\n",
       "    }\n",
       "\n",
       "    .dataframe thead th {\n",
       "        text-align: right;\n",
       "    }\n",
       "</style>\n",
       "<table border=\"1\" class=\"dataframe\">\n",
       "  <thead>\n",
       "    <tr style=\"text-align: right;\">\n",
       "      <th></th>\n",
       "    </tr>\n",
       "    <tr>\n",
       "      <th>Feature_ID</th>\n",
       "    </tr>\n",
       "  </thead>\n",
       "  <tbody>\n",
       "    <tr>\n",
       "      <th>chr1:9955-10355</th>\n",
       "    </tr>\n",
       "    <tr>\n",
       "      <th>chr1:29163-29563</th>\n",
       "    </tr>\n",
       "    <tr>\n",
       "      <th>chr1:79215-79615</th>\n",
       "    </tr>\n",
       "    <tr>\n",
       "      <th>chr1:102755-103155</th>\n",
       "    </tr>\n",
       "    <tr>\n",
       "      <th>chr1:180580-180980</th>\n",
       "    </tr>\n",
       "    <tr>\n",
       "      <th>...</th>\n",
       "    </tr>\n",
       "    <tr>\n",
       "      <th>chrY:56676947-56677347</th>\n",
       "    </tr>\n",
       "    <tr>\n",
       "      <th>chrY:56677442-56677842</th>\n",
       "    </tr>\n",
       "    <tr>\n",
       "      <th>chrY:56678029-56678429</th>\n",
       "    </tr>\n",
       "    <tr>\n",
       "      <th>chrY:56678600-56679000</th>\n",
       "    </tr>\n",
       "    <tr>\n",
       "      <th>chrY:56707025-56707425</th>\n",
       "    </tr>\n",
       "  </tbody>\n",
       "</table>\n",
       "<p>1154611 rows × 0 columns</p>\n",
       "</div>"
      ],
      "text/plain": [
       "Empty DataFrame\n",
       "Columns: []\n",
       "Index: [chr1:9955-10355, chr1:29163-29563, chr1:79215-79615, chr1:102755-103155, chr1:180580-180980, chr1:181273-181673, chr1:184281-184681, chr1:185527-185927, chr1:191294-191694, chr1:267803-268203, chr1:276109-276509, chr1:629065-629465, chr1:630110-630510, chr1:631178-631578, chr1:632120-632520, chr1:633354-633754, chr1:633824-634224, chr1:727023-727423, chr1:778525-778925, chr1:778985-779385, chr1:779618-780018, chr1:794897-795297, chr1:804733-805133, chr1:817141-817541, chr1:817901-818301, chr1:818585-818985, chr1:819832-820232, chr1:821262-821662, chr1:826875-827275, chr1:827359-827759, chr1:830730-831130, chr1:831611-832011, chr1:832113-832513, chr1:832724-833124, chr1:835499-835899, chr1:844611-845011, chr1:850296-850696, chr1:851394-851794, chr1:851927-852327, chr1:856585-856985, chr1:858638-859038, chr1:865634-866034, chr1:866135-866535, chr1:868861-869261, chr1:869724-870124, chr1:876148-876548, chr1:895518-895918, chr1:897595-897995, chr1:898674-899074, chr1:904538-904938, chr1:905248-905648, chr1:906127-906527, chr1:906768-907168, chr1:910005-910405, chr1:910522-910922, chr1:911152-911552, chr1:913583-913983, chr1:916502-916902, chr1:920273-920673, chr1:921040-921440, chr1:923663-924063, chr1:924140-924540, chr1:924560-924960, chr1:925472-925872, chr1:927483-927883, chr1:930738-931138, chr1:931776-932176, chr1:933082-933482, chr1:936869-937269, chr1:938058-938458, chr1:940125-940525, chr1:940684-941084, chr1:941110-941510, chr1:941634-942034, chr1:942370-942770, chr1:943167-943567, chr1:944266-944666, chr1:944691-945091, chr1:950265-950665, chr1:959124-959524, chr1:959610-960010, chr1:960365-960765, chr1:960775-961175, chr1:966263-966663, chr1:966800-967200, chr1:967995-968395, chr1:970716-971116, chr1:971271-971671, chr1:972122-972522, chr1:973139-973539, chr1:973852-974252, chr1:976001-976401, chr1:976780-977180, chr1:977967-978367, chr1:978588-978988, chr1:980026-980426, chr1:980587-980987, chr1:982026-982426, chr1:984123-984523, chr1:984619-985019, ...]\n",
       "\n",
       "[1154611 rows x 0 columns]"
      ]
     },
     "execution_count": 5,
     "metadata": {},
     "output_type": "execute_result"
    }
   ],
   "source": [
    "# var: features, in this case candidate cis-regulatory elements (cCRE)\n",
    "adata.var"
   ]
  },
  {
   "cell_type": "markdown",
   "id": "98e74828-caa8-4a6d-aa31-e7824286ee2c",
   "metadata": {},
   "source": [
    "# Interfacing pytorch models"
   ]
  },
  {
   "cell_type": "markdown",
   "id": "e60a9de0-70ab-40b3-b1cb-547dbb11d264",
   "metadata": {},
   "source": [
    "AnnData format can directly interface with pytorch (need to check more on this): https://anndata.readthedocs.io/en/latest/tutorials/notebooks/annloader.html# "
   ]
  },
  {
   "cell_type": "code",
   "execution_count": 6,
   "id": "1d71bc0f-9c7b-43da-a76e-382e1955018d",
   "metadata": {},
   "outputs": [],
   "source": [
    "import torch.nn as nn\n",
    "import pandas as pd\n",
    "from anndata.experimental.pytorch import AnnLoader"
   ]
  },
  {
   "cell_type": "code",
   "execution_count": 7,
   "id": "c4695871-a42c-4d6e-82e7-1a0c705ac4d1",
   "metadata": {},
   "outputs": [],
   "source": [
    "# Tentatively try the dataloader \n",
    "### NOTE: if this fails, try restart the kernel, see https://github.com/ipython/ipython/issues/13598\n",
    "dataloader = AnnLoader(adata, batch_size=128, shuffle=True)"
   ]
  },
  {
   "cell_type": "code",
   "execution_count": 9,
   "metadata": {},
   "outputs": [
    {
     "data": {
      "text/plain": [
       "AnnCollection object with n_obs × n_vars = 1323041 × 1154611\n",
       "  constructed from 1 AnnData objects"
      ]
     },
     "execution_count": 9,
     "metadata": {},
     "output_type": "execute_result"
    }
   ],
   "source": [
    "dataloader.dataset"
   ]
  }
 ],
 "metadata": {
  "kernelspec": {
   "display_name": "Python 3 (ipykernel)",
   "language": "python",
   "name": "python3"
  },
  "language_info": {
   "codemirror_mode": {
    "name": "ipython",
    "version": 3
   },
   "file_extension": ".py",
   "mimetype": "text/x-python",
   "name": "python",
   "nbconvert_exporter": "python",
   "pygments_lexer": "ipython3",
   "version": "3.11.5"
  }
 },
 "nbformat": 4,
 "nbformat_minor": 5
}
