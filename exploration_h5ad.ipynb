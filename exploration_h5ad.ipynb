{
 "cells": [
  {
   "cell_type": "markdown",
   "id": "b9b244e8-3bc5-4305-99a0-38aab307567e",
   "metadata": {},
   "source": [
    "# Load h5ad data with scanpy"
   ]
  },
  {
   "cell_type": "markdown",
   "id": "db6119dc-c229-41d6-b32f-82eeed4277af",
   "metadata": {},
   "source": [
    "[Scanpy](https://scanpy.readthedocs.io/en/stable/index.html) – a package for Single-Cell Analysis in Python. It provides a [function](https://scanpy.readthedocs.io/en/stable/generated/scanpy.read_h5ad.html#scanpy.read_h5ad\n",
    ") to load data in h5ad format. The paper also provides the sparse matrix (mtx.gz) in [h5ad format](http://catlas.org/catlas_downloads/humantissues/Cell_by_cCRE/).\n",
    "\n",
    "**Note:** a customized function is provided in the fewshotbench example"
   ]
  },
  {
   "cell_type": "code",
   "execution_count": 9,
   "id": "665b674f-0b86-4931-9840-f614f1d1998d",
   "metadata": {},
   "outputs": [],
   "source": [
    "import scanpy\n",
    "import pandas as pd\n",
    "import numpy as np"
   ]
  },
  {
   "cell_type": "code",
   "execution_count": 10,
   "id": "6497c0a8-3771-4c6f-99fe-e0929c36aae7",
   "metadata": {},
   "outputs": [
    {
     "data": {
      "text/plain": [
       "AnnData object with n_obs × n_vars = 1323041 × 1154611 backed at 'data/Cell_by_cCRE/matrix.h5ad'"
      ]
     },
     "execution_count": 10,
     "metadata": {},
     "output_type": "execute_result"
    }
   ],
   "source": [
    "# load the matrix.h5ad from http://catlas.org/catlas_downloads/humantissues/Cell_by_cCRE/ \n",
    "### NOTE: when running on google cloud VM, memory allocation seems to be an issue\n",
    "### add backed to reduce memory usage, see https://github.com/scverse/scanpy/issues/434 \n",
    "adata = scanpy.read_h5ad(\"data/Cell_by_cCRE/matrix.h5ad\", backed=\"r\")\n",
    "adata"
   ]
  },
  {
   "cell_type": "markdown",
   "id": "b4da472d-4517-4242-b37b-559bd2d26582",
   "metadata": {},
   "source": [
    "# AnnData format"
   ]
  },
  {
   "cell_type": "markdown",
   "id": "35c57b20-bfe7-455b-93e9-37dee9ba64c3",
   "metadata": {},
   "source": [
    "[Anndata](https://anndata.readthedocs.io/en/latest/tutorials/notebooks/getting-started.html) is short for annotated data. The h5ad provided in the dataset website has very minimum annotation. We can build up the layers of observation (e.g, cell type annotation given in the paper) and layers of variable (e.g, classes of the cCRE <promoter, distal etc.>)."
   ]
  },
  {
   "cell_type": "code",
   "execution_count": 11,
   "id": "171b57b4-b35a-4034-872f-38c42b010c33",
   "metadata": {},
   "outputs": [
    {
     "data": {
      "text/plain": [
       "<HDF5 sparse dataset: format 'csr', shape (1323041, 1154611), type '<i8'>"
      ]
     },
     "execution_count": 11,
     "metadata": {},
     "output_type": "execute_result"
    }
   ],
   "source": [
    "# initial data\n",
    "# sparse matrix of shape (#cell, #feature)\n",
    "adata.X"
   ]
  },
  {
   "cell_type": "code",
   "execution_count": 12,
   "id": "28171658-dd40-42fd-9f06-54c5d3ca38db",
   "metadata": {},
   "outputs": [
    {
     "data": {
      "text/html": [
       "<div>\n",
       "<style scoped>\n",
       "    .dataframe tbody tr th:only-of-type {\n",
       "        vertical-align: middle;\n",
       "    }\n",
       "\n",
       "    .dataframe tbody tr th {\n",
       "        vertical-align: top;\n",
       "    }\n",
       "\n",
       "    .dataframe thead th {\n",
       "        text-align: right;\n",
       "    }\n",
       "</style>\n",
       "<table border=\"1\" class=\"dataframe\">\n",
       "  <thead>\n",
       "    <tr style=\"text-align: right;\">\n",
       "      <th></th>\n",
       "    </tr>\n",
       "    <tr>\n",
       "      <th>barcodes</th>\n",
       "    </tr>\n",
       "  </thead>\n",
       "  <tbody>\n",
       "    <tr>\n",
       "      <th>LungMap_D122_1+AAACTACCAGCTGCGCTTATCC</th>\n",
       "    </tr>\n",
       "    <tr>\n",
       "      <th>LungMap_D122_1+AACTGCGCCATCCACTTGGATA</th>\n",
       "    </tr>\n",
       "    <tr>\n",
       "      <th>LungMap_D122_1+AACTTCTGCTCACCTGTAAGAC</th>\n",
       "    </tr>\n",
       "    <tr>\n",
       "      <th>LungMap_D122_1+AATTCGGATGAGATCTGTGACG</th>\n",
       "    </tr>\n",
       "    <tr>\n",
       "      <th>LungMap_D122_1+AATTCGGATGGTCCGGTCCAAA</th>\n",
       "    </tr>\n",
       "    <tr>\n",
       "      <th>...</th>\n",
       "    </tr>\n",
       "    <tr>\n",
       "      <th>spleen_sample_57_1+TTGGTTAACCCTTCAGGCCATTGGCCAGGTCCTCGTCATA</th>\n",
       "    </tr>\n",
       "    <tr>\n",
       "      <th>spleen_sample_57_1+TTGGTTGGTACGTAGCCGTAGATAGCCGATTTGCTCGATT</th>\n",
       "    </tr>\n",
       "    <tr>\n",
       "      <th>spleen_sample_57_1+TTGGTTGGTACTAAGAGTTATACCTTAGCTACCAGTTATT</th>\n",
       "    </tr>\n",
       "    <tr>\n",
       "      <th>spleen_sample_57_1+TTGGTTGGTAGCATTAGGCGCCGGTCCTAATTGCTCGATT</th>\n",
       "    </tr>\n",
       "    <tr>\n",
       "      <th>thymus_sample_2_1+TAGCATTGATCTGGCAGCGGTTCTGGCGCAACTTAAGATA</th>\n",
       "    </tr>\n",
       "  </tbody>\n",
       "</table>\n",
       "<p>1323041 rows × 0 columns</p>\n",
       "</div>"
      ],
      "text/plain": [
       "Empty DataFrame\n",
       "Columns: []\n",
       "Index: [LungMap_D122_1+AAACTACCAGCTGCGCTTATCC, LungMap_D122_1+AACTGCGCCATCCACTTGGATA, LungMap_D122_1+AACTTCTGCTCACCTGTAAGAC, LungMap_D122_1+AATTCGGATGAGATCTGTGACG, LungMap_D122_1+AATTCGGATGGTCCGGTCCAAA, LungMap_D122_1+ACATACCAGGGCATGTATCCTT, LungMap_D122_1+ACGATGTACTTCGAGCATTATG, LungMap_D122_1+ACTAAGACGACACTTCTCCTAC, LungMap_D122_1+ACTCGCTAAATTAGTGCTAGCA, LungMap_D122_1+ACTGCACAGAGCAATCGGAACC, LungMap_D122_1+AGCTGGAGTAACCCGGTATTCG, LungMap_D122_1+AGGCGAATCTCCTTTCCGTATC, LungMap_D122_1+AGGCGAATCTCGCTATCTCTTG, LungMap_D122_1+ATACCTGGAGCGGCGACTAACA, LungMap_D122_1+ATCGAGTTCACGTCAATAGCTG, LungMap_D122_1+ATCTAAGGCGACTGCGACAAAG, LungMap_D122_1+ATCTAAGGCGCTTCATGTACCT, LungMap_D122_1+CCAGCACAAGTTCTCATGGTCA, LungMap_D122_1+CCAGGTCGTACAACGGCATGAG, LungMap_D122_1+CCAGGTCGTAGTACTGGACCCT, LungMap_D122_1+CCGTTCAGATAACTGCGTCTTT, LungMap_D122_1+CGACACTACATGGAACAGTCTG, LungMap_D122_1+CGATATGTAGCAGAAGGTTGTT, LungMap_D122_1+CGTAGGATATTGACTATTTCCC, LungMap_D122_1+CTCATAGTGGAGCATGCGCTTT, LungMap_D122_1+GAACATGGTCATTGCCTTCTTC, LungMap_D122_1+GACCTAAGGAAGTCTGTGTAGA, LungMap_D122_1+GCAATCCTTGAATCGAACACGT, LungMap_D122_1+GCAATCCTTGACCCGATGGCTA, LungMap_D122_1+TCAACGGAGAAGACTAGGAGGA, LungMap_D122_1+TCAACGGAGAGTCAATTCTCAG, LungMap_D122_1+TCGGGATAAAAGATACCTGGAG, LungMap_D122_1+TCTACTGGTAAATCACGCTTCG, LungMap_D122_1+TCTACTGGTACAGAATGCCTGA, LungMap_D122_1+TGAGTCATGAACATGGCAAGCC, LungMap_D122_1+TGCACATTACCCTACTAGTTAG, LungMap_D122_1+TGCACATTACTTGATGCGACCA, LungMap_D122_1+TGCAGTTGTCAGAGTGTGCCGT, LungMap_D122_1+TGCTCCATGGTGCAGATCGGCT, LungMap_D122_1+TGGTGCGCATAGAGTTTGAAGG, LungMap_D175_1+AAGCAAAGTCCTCATGTAGTCT, LungMap_D175_1+ACAGCAAGTCAAGCTCAACGCA, LungMap_D175_1+ACCCTTATCTGTGCAAACCACT, LungMap_D175_1+ACGTAGCGCAAAGACACCAACC, LungMap_D175_1+ACGTAGCGCACACTGTGTTATG, LungMap_D175_1+ACGTAGCGCATGGACATACTGG, LungMap_D175_1+AGCCATAGGGCGCTGATGATGA, LungMap_D175_1+AGCCATAGGGGATGGCAAACAT, LungMap_D175_1+AGCCATAGGGGTGTTAGGCAAT, LungMap_D175_1+AGGCTGTGAGCCACTCTAGGTC, LungMap_D175_1+ATGTAACGACACGATCCGCACT, LungMap_D175_1+ATGTAACGACGTCGAACCTATT, LungMap_D175_1+ATGTAACGACTCGAGCATTATG, LungMap_D175_1+ATGTTCACGTCAGAATGCCTGA, LungMap_D175_1+CAATGATAGCGATAGGTGTAGC, LungMap_D175_1+CAGGAAAGCATTCTCATGGTCA, LungMap_D175_1+CAGGTGAACCGTTGGAGACTAA, LungMap_D175_1+CATCCGGAACATCAGTCAAGGA, LungMap_D175_1+CCACAAATTCACCAGTTCACCC, LungMap_D175_1+CCGGGATTTCCACCTGTAAGAC, LungMap_D175_1+CCGGGATTTCCAGCTCAGGACA, LungMap_D175_1+CCTTACTCAGCCTACTAGTTAG, LungMap_D175_1+CCTTACTCAGTGCCGTCTCAAC, LungMap_D175_1+CGCCTTTACGTTCCGCTGATAT, LungMap_D175_1+CGTCAAGCAGCCACAGCGAAAC, LungMap_D175_1+CGTCTGGACTGTACAACTCTAG, LungMap_D175_1+CTATTTGCCTACCGTCCCATTC, LungMap_D175_1+CTGGTTCTCTTCTGACGGGACT, LungMap_D175_1+GACCAATCCTGCGCCTGTATAA, LungMap_D175_1+GACCAATCCTTCATCCGCGACA, LungMap_D175_1+GACCCTCAAAGGTGGCCGTATA, LungMap_D175_1+GACCTTGATGTAGCATCGATGC, LungMap_D175_1+GAGCACCACTTGAGCTAGACGC, LungMap_D175_1+GAGTGTGGTTGTCTCTGCTATT, LungMap_D175_1+GATCGGGTGATAGGCTAGTTTG, LungMap_D175_1+GCCAGTGTTGGACAATCGAGAA, LungMap_D175_1+GCTGGTAGGACTTGGCAACAGC, LungMap_D175_1+GCTTCGCATTGGGTTGAACCTA, LungMap_D175_1+GGAATTCCGATGCCGTCTCAAC, LungMap_D175_1+GTGGGCAATAGGGTTGAACCTA, LungMap_D175_1+GTGTGACCCTCGAGACGTTTAA, LungMap_D175_1+TACCGTACCTCGAAGGGATCAT, LungMap_D175_1+TACTCGATTCGAGAACGTCATA, LungMap_D175_1+TCACACGTCGTCCGCGGCTTAA, LungMap_D175_1+TCGGCTTATTACATCTCTCCCG, LungMap_D175_1+TCGGCTTATTCTTGGCAACAGC, LungMap_D175_1+TCTTGTTGCCAGGTGTGACCGT, LungMap_D175_1+TCTTGTTGCCCAATCTGGGTGT, LungMap_D175_1+TGAGCGAGTATCCACATCACTG, LungMap_D175_1+TGGCAGCAATCAAACACCACAT, LungMap_D175_1+TGGCAGCAATTGCCACTTCGCT, LungMap_D175_1+TGGCAGCAATTTAAACGCGAAG, LungMap_D175_1+TTCGTCCGACTCCACATCACTG, LungMap_D175_1+TTCGTCCGACTTAGGATGCGCG, LungMap_D231_1+AACGAGAGCTAACTTCGACCAG, LungMap_D231_1+AACGAGAGCTAGCATACTCAGC, LungMap_D231_1+AAGGAAGCCTTCACCAAACCGG, LungMap_D231_1+AATCCGTGATAGCAGTTGGTGG, LungMap_D231_1+AATCCGTGATCGCGAGAGCTAT, LungMap_D231_1+AATCCGTGATTCCCTATAGCCA, ...]\n",
       "\n",
       "[1323041 rows x 0 columns]"
      ]
     },
     "execution_count": 12,
     "metadata": {},
     "output_type": "execute_result"
    }
   ],
   "source": [
    "# obs: cell ID (barcodes in this case)\n",
    "adata.obs"
   ]
  },
  {
   "cell_type": "code",
   "execution_count": 13,
   "id": "23644809-0bc7-4358-a36f-b1a53acfde17",
   "metadata": {},
   "outputs": [
    {
     "data": {
      "text/html": [
       "<div>\n",
       "<style scoped>\n",
       "    .dataframe tbody tr th:only-of-type {\n",
       "        vertical-align: middle;\n",
       "    }\n",
       "\n",
       "    .dataframe tbody tr th {\n",
       "        vertical-align: top;\n",
       "    }\n",
       "\n",
       "    .dataframe thead th {\n",
       "        text-align: right;\n",
       "    }\n",
       "</style>\n",
       "<table border=\"1\" class=\"dataframe\">\n",
       "  <thead>\n",
       "    <tr style=\"text-align: right;\">\n",
       "      <th></th>\n",
       "    </tr>\n",
       "    <tr>\n",
       "      <th>Feature_ID</th>\n",
       "    </tr>\n",
       "  </thead>\n",
       "  <tbody>\n",
       "    <tr>\n",
       "      <th>chr1:9955-10355</th>\n",
       "    </tr>\n",
       "    <tr>\n",
       "      <th>chr1:29163-29563</th>\n",
       "    </tr>\n",
       "    <tr>\n",
       "      <th>chr1:79215-79615</th>\n",
       "    </tr>\n",
       "    <tr>\n",
       "      <th>chr1:102755-103155</th>\n",
       "    </tr>\n",
       "    <tr>\n",
       "      <th>chr1:180580-180980</th>\n",
       "    </tr>\n",
       "    <tr>\n",
       "      <th>...</th>\n",
       "    </tr>\n",
       "    <tr>\n",
       "      <th>chrY:56676947-56677347</th>\n",
       "    </tr>\n",
       "    <tr>\n",
       "      <th>chrY:56677442-56677842</th>\n",
       "    </tr>\n",
       "    <tr>\n",
       "      <th>chrY:56678029-56678429</th>\n",
       "    </tr>\n",
       "    <tr>\n",
       "      <th>chrY:56678600-56679000</th>\n",
       "    </tr>\n",
       "    <tr>\n",
       "      <th>chrY:56707025-56707425</th>\n",
       "    </tr>\n",
       "  </tbody>\n",
       "</table>\n",
       "<p>1154611 rows × 0 columns</p>\n",
       "</div>"
      ],
      "text/plain": [
       "Empty DataFrame\n",
       "Columns: []\n",
       "Index: [chr1:9955-10355, chr1:29163-29563, chr1:79215-79615, chr1:102755-103155, chr1:180580-180980, chr1:181273-181673, chr1:184281-184681, chr1:185527-185927, chr1:191294-191694, chr1:267803-268203, chr1:276109-276509, chr1:629065-629465, chr1:630110-630510, chr1:631178-631578, chr1:632120-632520, chr1:633354-633754, chr1:633824-634224, chr1:727023-727423, chr1:778525-778925, chr1:778985-779385, chr1:779618-780018, chr1:794897-795297, chr1:804733-805133, chr1:817141-817541, chr1:817901-818301, chr1:818585-818985, chr1:819832-820232, chr1:821262-821662, chr1:826875-827275, chr1:827359-827759, chr1:830730-831130, chr1:831611-832011, chr1:832113-832513, chr1:832724-833124, chr1:835499-835899, chr1:844611-845011, chr1:850296-850696, chr1:851394-851794, chr1:851927-852327, chr1:856585-856985, chr1:858638-859038, chr1:865634-866034, chr1:866135-866535, chr1:868861-869261, chr1:869724-870124, chr1:876148-876548, chr1:895518-895918, chr1:897595-897995, chr1:898674-899074, chr1:904538-904938, chr1:905248-905648, chr1:906127-906527, chr1:906768-907168, chr1:910005-910405, chr1:910522-910922, chr1:911152-911552, chr1:913583-913983, chr1:916502-916902, chr1:920273-920673, chr1:921040-921440, chr1:923663-924063, chr1:924140-924540, chr1:924560-924960, chr1:925472-925872, chr1:927483-927883, chr1:930738-931138, chr1:931776-932176, chr1:933082-933482, chr1:936869-937269, chr1:938058-938458, chr1:940125-940525, chr1:940684-941084, chr1:941110-941510, chr1:941634-942034, chr1:942370-942770, chr1:943167-943567, chr1:944266-944666, chr1:944691-945091, chr1:950265-950665, chr1:959124-959524, chr1:959610-960010, chr1:960365-960765, chr1:960775-961175, chr1:966263-966663, chr1:966800-967200, chr1:967995-968395, chr1:970716-971116, chr1:971271-971671, chr1:972122-972522, chr1:973139-973539, chr1:973852-974252, chr1:976001-976401, chr1:976780-977180, chr1:977967-978367, chr1:978588-978988, chr1:980026-980426, chr1:980587-980987, chr1:982026-982426, chr1:984123-984523, chr1:984619-985019, ...]\n",
       "\n",
       "[1154611 rows x 0 columns]"
      ]
     },
     "execution_count": 13,
     "metadata": {},
     "output_type": "execute_result"
    }
   ],
   "source": [
    "# var: features, in this case candidate cis-regulatory elements (cCRE)\n",
    "adata.var"
   ]
  },
  {
   "cell_type": "markdown",
   "metadata": {},
   "source": [
    "# Adding aligned metadata"
   ]
  },
  {
   "cell_type": "markdown",
   "metadata": {},
   "source": [
    "## Add more information about the cells \n",
    "Additional information of each cell includes: \n",
    "1. `cellID`: unique ID (same as the `barcodes` in the `adata.obs`). \n",
    "\n",
    "    In single cell experiments, each cell can be marked by a unique `barcode`, so that in later sequencing we can retrive this information and distinguish between individual cells. \n",
    "2. `logUMI`: log10 number of unique fragment passing QC. \n",
    "\n",
    "    [Unique Molecular Identifier](https://dnatech.genomecenter.ucdavis.edu/faqs/what-are-umis-and-why-are-they-used-in-high-throughput-sequencing/) are used to label uniquely each transcript captured in a single-cell sequencing experiment. This labeling helps in accurately quantifying gene expression For downsteam analysis, it is typical to filter out cells with very low (log)UMI values, so to keep cells that are transcriptionally active. \n",
    "3. `tsse`: TSS enrichment. \n",
    "\n",
    "    Transcription Start Site (TSS) Enrichment Score is a metric used to evaluate the quality of sequencing data, specifically how well the sequencing method has enriched for regions around transcription start sites. This [image](https://scalex.readthedocs.io/en/latest/_images/tutorial_Integration_cross-modality_11_0.png) shows the differece between high and low TSSE. A higher TSS enrichment score indicates that the sequencing method effectively targeted these key regulatory regions. \n",
    "4. `tissue`: The ID of tissue sample\n",
    "5. `cell` type: The name of the cell type. **TODO** Maybe we can merge cell types between fetal and adults?\n",
    "6. `Life` stage: Fetal or Adult"
   ]
  },
  {
   "cell_type": "code",
   "execution_count": 14,
   "metadata": {},
   "outputs": [],
   "source": [
    "cell_metadata = pd.read_csv('data/Cell_metadata.tsv.gz', sep='\\t', compression='gzip')\n",
    "# Rename cellID to barcodes, to be consistant with adata.obs\n",
    "cell_metadata.rename(columns={\"cellID\": \"barcodes\"}, inplace=True)\n",
    "#cell_metadata"
   ]
  },
  {
   "cell_type": "code",
   "execution_count": 15,
   "metadata": {},
   "outputs": [
    {
     "name": "stderr",
     "output_type": "stream",
     "text": [
      "/home/hhu/miniconda3/envs/dl-bio/lib/python3.11/site-packages/anndata/_core/anndata.py:782: UserWarning: \n",
      "AnnData expects .obs.index to contain strings, but got values like:\n",
      "    [0, 1, 2, 3, 4]\n",
      "\n",
      "    Inferred to be: integer\n",
      "\n",
      "  value_idx = self._prep_dim_index(value.index, attr)\n"
     ]
    },
    {
     "data": {
      "text/html": [
       "<div>\n",
       "<style scoped>\n",
       "    .dataframe tbody tr th:only-of-type {\n",
       "        vertical-align: middle;\n",
       "    }\n",
       "\n",
       "    .dataframe tbody tr th {\n",
       "        vertical-align: top;\n",
       "    }\n",
       "\n",
       "    .dataframe thead th {\n",
       "        text-align: right;\n",
       "    }\n",
       "</style>\n",
       "<table border=\"1\" class=\"dataframe\">\n",
       "  <thead>\n",
       "    <tr style=\"text-align: right;\">\n",
       "      <th></th>\n",
       "      <th>barcodes</th>\n",
       "      <th>logUMI</th>\n",
       "      <th>tsse</th>\n",
       "      <th>tissue</th>\n",
       "      <th>cell type</th>\n",
       "      <th>Life stage</th>\n",
       "    </tr>\n",
       "  </thead>\n",
       "  <tbody>\n",
       "    <tr>\n",
       "      <th>0</th>\n",
       "      <td>LungMap_D122_1+AAACTACCAGCTGCGCTTATCC</td>\n",
       "      <td>3.396374</td>\n",
       "      <td>16.133163</td>\n",
       "      <td>LungMap_D122</td>\n",
       "      <td>Cilliated Cell</td>\n",
       "      <td>Adult</td>\n",
       "    </tr>\n",
       "    <tr>\n",
       "      <th>1</th>\n",
       "      <td>LungMap_D122_1+AACTGCGCCATCCACTTGGATA</td>\n",
       "      <td>3.008174</td>\n",
       "      <td>21.010101</td>\n",
       "      <td>LungMap_D122</td>\n",
       "      <td>Cilliated Cell</td>\n",
       "      <td>Adult</td>\n",
       "    </tr>\n",
       "    <tr>\n",
       "      <th>2</th>\n",
       "      <td>LungMap_D122_1+AACTTCTGCTCACCTGTAAGAC</td>\n",
       "      <td>3.201670</td>\n",
       "      <td>10.760668</td>\n",
       "      <td>LungMap_D122</td>\n",
       "      <td>Cilliated Cell</td>\n",
       "      <td>Adult</td>\n",
       "    </tr>\n",
       "    <tr>\n",
       "      <th>3</th>\n",
       "      <td>LungMap_D122_1+AATTCGGATGAGATCTGTGACG</td>\n",
       "      <td>3.236789</td>\n",
       "      <td>13.146853</td>\n",
       "      <td>LungMap_D122</td>\n",
       "      <td>Cilliated Cell</td>\n",
       "      <td>Adult</td>\n",
       "    </tr>\n",
       "    <tr>\n",
       "      <th>4</th>\n",
       "      <td>LungMap_D122_1+AATTCGGATGGTCCGGTCCAAA</td>\n",
       "      <td>3.119915</td>\n",
       "      <td>10.211706</td>\n",
       "      <td>LungMap_D122</td>\n",
       "      <td>Cilliated Cell</td>\n",
       "      <td>Adult</td>\n",
       "    </tr>\n",
       "    <tr>\n",
       "      <th>...</th>\n",
       "      <td>...</td>\n",
       "      <td>...</td>\n",
       "      <td>...</td>\n",
       "      <td>...</td>\n",
       "      <td>...</td>\n",
       "      <td>...</td>\n",
       "    </tr>\n",
       "    <tr>\n",
       "      <th>1323036</th>\n",
       "      <td>spleen_sample_57_1+TTGGTTAACCCTTCAGGCCATTGGCCA...</td>\n",
       "      <td>3.134177</td>\n",
       "      <td>13.333333</td>\n",
       "      <td>spleen_sample_57</td>\n",
       "      <td>Fetal Fibroblast (Splenic)</td>\n",
       "      <td>Fetal</td>\n",
       "    </tr>\n",
       "    <tr>\n",
       "      <th>1323037</th>\n",
       "      <td>spleen_sample_57_1+TTGGTTGGTACGTAGCCGTAGATAGCC...</td>\n",
       "      <td>3.485721</td>\n",
       "      <td>14.117647</td>\n",
       "      <td>spleen_sample_57</td>\n",
       "      <td>Fetal Fibroblast (Splenic)</td>\n",
       "      <td>Fetal</td>\n",
       "    </tr>\n",
       "    <tr>\n",
       "      <th>1323038</th>\n",
       "      <td>spleen_sample_57_1+TTGGTTGGTACTAAGAGTTATACCTTA...</td>\n",
       "      <td>4.363687</td>\n",
       "      <td>8.497675</td>\n",
       "      <td>spleen_sample_57</td>\n",
       "      <td>Fetal Fibroblast (Splenic)</td>\n",
       "      <td>Fetal</td>\n",
       "    </tr>\n",
       "    <tr>\n",
       "      <th>1323039</th>\n",
       "      <td>spleen_sample_57_1+TTGGTTGGTAGCATTAGGCGCCGGTCC...</td>\n",
       "      <td>3.509471</td>\n",
       "      <td>17.259552</td>\n",
       "      <td>spleen_sample_57</td>\n",
       "      <td>Fetal Fibroblast (Splenic)</td>\n",
       "      <td>Fetal</td>\n",
       "    </tr>\n",
       "    <tr>\n",
       "      <th>1323040</th>\n",
       "      <td>thymus_sample_2_1+TAGCATTGATCTGGCAGCGGTTCTGGCG...</td>\n",
       "      <td>3.131298</td>\n",
       "      <td>9.848485</td>\n",
       "      <td>thymus_sample_2</td>\n",
       "      <td>Fetal Fibroblast (Splenic)</td>\n",
       "      <td>Fetal</td>\n",
       "    </tr>\n",
       "  </tbody>\n",
       "</table>\n",
       "<p>1323041 rows × 6 columns</p>\n",
       "</div>"
      ],
      "text/plain": [
       "                                                  barcodes    logUMI  \\\n",
       "0                    LungMap_D122_1+AAACTACCAGCTGCGCTTATCC  3.396374   \n",
       "1                    LungMap_D122_1+AACTGCGCCATCCACTTGGATA  3.008174   \n",
       "2                    LungMap_D122_1+AACTTCTGCTCACCTGTAAGAC  3.201670   \n",
       "3                    LungMap_D122_1+AATTCGGATGAGATCTGTGACG  3.236789   \n",
       "4                    LungMap_D122_1+AATTCGGATGGTCCGGTCCAAA  3.119915   \n",
       "...                                                    ...       ...   \n",
       "1323036  spleen_sample_57_1+TTGGTTAACCCTTCAGGCCATTGGCCA...  3.134177   \n",
       "1323037  spleen_sample_57_1+TTGGTTGGTACGTAGCCGTAGATAGCC...  3.485721   \n",
       "1323038  spleen_sample_57_1+TTGGTTGGTACTAAGAGTTATACCTTA...  4.363687   \n",
       "1323039  spleen_sample_57_1+TTGGTTGGTAGCATTAGGCGCCGGTCC...  3.509471   \n",
       "1323040  thymus_sample_2_1+TAGCATTGATCTGGCAGCGGTTCTGGCG...  3.131298   \n",
       "\n",
       "              tsse            tissue                   cell type Life stage  \n",
       "0        16.133163      LungMap_D122              Cilliated Cell      Adult  \n",
       "1        21.010101      LungMap_D122              Cilliated Cell      Adult  \n",
       "2        10.760668      LungMap_D122              Cilliated Cell      Adult  \n",
       "3        13.146853      LungMap_D122              Cilliated Cell      Adult  \n",
       "4        10.211706      LungMap_D122              Cilliated Cell      Adult  \n",
       "...            ...               ...                         ...        ...  \n",
       "1323036  13.333333  spleen_sample_57  Fetal Fibroblast (Splenic)      Fetal  \n",
       "1323037  14.117647  spleen_sample_57  Fetal Fibroblast (Splenic)      Fetal  \n",
       "1323038   8.497675  spleen_sample_57  Fetal Fibroblast (Splenic)      Fetal  \n",
       "1323039  17.259552  spleen_sample_57  Fetal Fibroblast (Splenic)      Fetal  \n",
       "1323040   9.848485   thymus_sample_2  Fetal Fibroblast (Splenic)      Fetal  \n",
       "\n",
       "[1323041 rows x 6 columns]"
      ]
     },
     "execution_count": 15,
     "metadata": {},
     "output_type": "execute_result"
    }
   ],
   "source": [
    "adata.obs = adata.obs.merge(cell_metadata, on='barcodes', how='left')\n",
    "adata.obs"
   ]
  },
  {
   "cell_type": "markdown",
   "metadata": {},
   "source": [
    "## Add more information about the cCRE (candidate [cis-regulatory elements](https://en.wikipedia.org/wiki/Cis-regulatory_element))\n",
    "Additional information of the CRE includes:\n",
    "1. `chromosome`: name of the chromosome.\n",
    "\n",
    "    This paper used [Genome assembly hg38](https://www.ncbi.nlm.nih.gov/datasets/genome/GCF_000001405.26/) as the reference genome (hg38 means something like the version of this release). In theory, it has 24 chromosomes (22 + X + Y + MT(mitochondrial)). However, there are also some weird names such as \"chr14_GL000009v2_random\", which are alternative sequences or haplotypes for specific regions of the genome. These are not standard chromosomes but are additional sequences that provide alternative versions of certain genomic regions. \n",
    "\n",
    "2. `hg38_Start`: 0-based starting location of the cCRE in the genome (hg38).\n",
    "3. `hg38_End`: End of the cCRE in the genome (hg38).\n",
    "4. `class`: Promoter (-200 to +200 of TSS), Promoter Proximal (less) or Distal\n",
    "\n",
    "    [Promoter](https://www.genome.gov/genetics-glossary/Promoter#:~:text=A%20promoter%2C%20as%20related%20to,molecule%20(such%20as%20mRNA).) is a region in DNA (close to transcription starting site) that regulates gene transcription. The exact location of promoter to TSS is not the same for each gene. This paper defines the promoter to be located in -200 to +200 bases to the TSS, CRE close to promter as promoter proximal, others as distal.\n",
    "5. `Present in fetal tissues`: if this cCRE is detected in at least one fetal tissue\n",
    "6. `Present in adult tissues`: if this cCRE is detected in at least one adult tissue\n",
    "7. `CRE module`: The ID of CRE module that the cCRE belongs to."
   ]
  },
  {
   "cell_type": "code",
   "execution_count": 16,
   "metadata": {},
   "outputs": [],
   "source": [
    "cCRE_hg38 = pd.read_csv('data/cCRE_hg38.tsv.gz', sep='\\t', compression='gzip')\n",
    "# Add a 'Feature_ID' column so that we can add it to the adata.var\n",
    "cCRE_hg38['Feature_ID'] = cCRE_hg38['#Chromosome'].astype(str) + ':' + cCRE_hg38['hg38_Start'].astype(str) + '-' + cCRE_hg38['hg38_End'].astype(str)\n",
    "#cCRE_hg38"
   ]
  },
  {
   "cell_type": "code",
   "execution_count": 17,
   "metadata": {},
   "outputs": [
    {
     "data": {
      "text/plain": [
       "array(['chr1', 'chr10', 'chr11', 'chr12', 'chr13', 'chr14',\n",
       "       'chr14_GL000009v2_random', 'chr15', 'chr15_KI270850v1_alt',\n",
       "       'chr16', 'chr17', 'chr17_KI270909v1_alt', 'chr18', 'chr19',\n",
       "       'chr19_KI270938v1_alt', 'chr1_KI270706v1_random', 'chr2', 'chr20',\n",
       "       'chr21', 'chr22', 'chr22_KI270879v1_alt', 'chr3', 'chr4',\n",
       "       'chr4_GL000008v2_random', 'chr5', 'chr6', 'chr7',\n",
       "       'chr7_KI270803v1_alt', 'chr8', 'chr8_KI270821v1_alt', 'chr9',\n",
       "       'chrUn_KI270742v1', 'chrX', 'chrY'], dtype=object)"
      ]
     },
     "execution_count": 17,
     "metadata": {},
     "output_type": "execute_result"
    }
   ],
   "source": [
    "# Have a look as the chromosomes. **NOTE** There are non-standard chromosomes. \n",
    "cCRE_hg38[\"#Chromosome\"].unique()"
   ]
  },
  {
   "cell_type": "code",
   "execution_count": 18,
   "metadata": {},
   "outputs": [
    {
     "name": "stderr",
     "output_type": "stream",
     "text": [
      "/home/hhu/miniconda3/envs/dl-bio/lib/python3.11/site-packages/anndata/_core/anndata.py:782: UserWarning: \n",
      "AnnData expects .var.index to contain strings, but got values like:\n",
      "    [0, 1, 2, 3, 4]\n",
      "\n",
      "    Inferred to be: integer\n",
      "\n",
      "  value_idx = self._prep_dim_index(value.index, attr)\n"
     ]
    },
    {
     "data": {
      "text/html": [
       "<div>\n",
       "<style scoped>\n",
       "    .dataframe tbody tr th:only-of-type {\n",
       "        vertical-align: middle;\n",
       "    }\n",
       "\n",
       "    .dataframe tbody tr th {\n",
       "        vertical-align: top;\n",
       "    }\n",
       "\n",
       "    .dataframe thead th {\n",
       "        text-align: right;\n",
       "    }\n",
       "</style>\n",
       "<table border=\"1\" class=\"dataframe\">\n",
       "  <thead>\n",
       "    <tr style=\"text-align: right;\">\n",
       "      <th></th>\n",
       "      <th>Feature_ID</th>\n",
       "      <th>#Chromosome</th>\n",
       "      <th>hg38_Start</th>\n",
       "      <th>hg38_End</th>\n",
       "      <th>Class</th>\n",
       "      <th>Present in fetal tissues</th>\n",
       "      <th>Present in adult tissues</th>\n",
       "      <th>CRE module</th>\n",
       "    </tr>\n",
       "  </thead>\n",
       "  <tbody>\n",
       "    <tr>\n",
       "      <th>0</th>\n",
       "      <td>chr1:9955-10355</td>\n",
       "      <td>chr1</td>\n",
       "      <td>9955</td>\n",
       "      <td>10355</td>\n",
       "      <td>Promoter Proximal</td>\n",
       "      <td>yes</td>\n",
       "      <td>yes</td>\n",
       "      <td>146</td>\n",
       "    </tr>\n",
       "    <tr>\n",
       "      <th>1</th>\n",
       "      <td>chr1:29163-29563</td>\n",
       "      <td>chr1</td>\n",
       "      <td>29163</td>\n",
       "      <td>29563</td>\n",
       "      <td>Promoter</td>\n",
       "      <td>yes</td>\n",
       "      <td>yes</td>\n",
       "      <td>37</td>\n",
       "    </tr>\n",
       "    <tr>\n",
       "      <th>2</th>\n",
       "      <td>chr1:79215-79615</td>\n",
       "      <td>chr1</td>\n",
       "      <td>79215</td>\n",
       "      <td>79615</td>\n",
       "      <td>Distal</td>\n",
       "      <td>no</td>\n",
       "      <td>yes</td>\n",
       "      <td>75</td>\n",
       "    </tr>\n",
       "    <tr>\n",
       "      <th>3</th>\n",
       "      <td>chr1:102755-103155</td>\n",
       "      <td>chr1</td>\n",
       "      <td>102755</td>\n",
       "      <td>103155</td>\n",
       "      <td>Distal</td>\n",
       "      <td>no</td>\n",
       "      <td>yes</td>\n",
       "      <td>51</td>\n",
       "    </tr>\n",
       "    <tr>\n",
       "      <th>4</th>\n",
       "      <td>chr1:180580-180980</td>\n",
       "      <td>chr1</td>\n",
       "      <td>180580</td>\n",
       "      <td>180980</td>\n",
       "      <td>Promoter Proximal</td>\n",
       "      <td>no</td>\n",
       "      <td>yes</td>\n",
       "      <td>146</td>\n",
       "    </tr>\n",
       "    <tr>\n",
       "      <th>...</th>\n",
       "      <td>...</td>\n",
       "      <td>...</td>\n",
       "      <td>...</td>\n",
       "      <td>...</td>\n",
       "      <td>...</td>\n",
       "      <td>...</td>\n",
       "      <td>...</td>\n",
       "      <td>...</td>\n",
       "    </tr>\n",
       "    <tr>\n",
       "      <th>1154606</th>\n",
       "      <td>chrY:56676947-56677347</td>\n",
       "      <td>chrY</td>\n",
       "      <td>56676947</td>\n",
       "      <td>56677347</td>\n",
       "      <td>Distal</td>\n",
       "      <td>yes</td>\n",
       "      <td>no</td>\n",
       "      <td>37</td>\n",
       "    </tr>\n",
       "    <tr>\n",
       "      <th>1154607</th>\n",
       "      <td>chrY:56677442-56677842</td>\n",
       "      <td>chrY</td>\n",
       "      <td>56677442</td>\n",
       "      <td>56677842</td>\n",
       "      <td>Distal</td>\n",
       "      <td>yes</td>\n",
       "      <td>no</td>\n",
       "      <td>37</td>\n",
       "    </tr>\n",
       "    <tr>\n",
       "      <th>1154608</th>\n",
       "      <td>chrY:56678029-56678429</td>\n",
       "      <td>chrY</td>\n",
       "      <td>56678029</td>\n",
       "      <td>56678429</td>\n",
       "      <td>Distal</td>\n",
       "      <td>yes</td>\n",
       "      <td>no</td>\n",
       "      <td>37</td>\n",
       "    </tr>\n",
       "    <tr>\n",
       "      <th>1154609</th>\n",
       "      <td>chrY:56678600-56679000</td>\n",
       "      <td>chrY</td>\n",
       "      <td>56678600</td>\n",
       "      <td>56679000</td>\n",
       "      <td>Distal</td>\n",
       "      <td>yes</td>\n",
       "      <td>no</td>\n",
       "      <td>37</td>\n",
       "    </tr>\n",
       "    <tr>\n",
       "      <th>1154610</th>\n",
       "      <td>chrY:56707025-56707425</td>\n",
       "      <td>chrY</td>\n",
       "      <td>56707025</td>\n",
       "      <td>56707425</td>\n",
       "      <td>Distal</td>\n",
       "      <td>yes</td>\n",
       "      <td>no</td>\n",
       "      <td>147</td>\n",
       "    </tr>\n",
       "  </tbody>\n",
       "</table>\n",
       "<p>1154611 rows × 8 columns</p>\n",
       "</div>"
      ],
      "text/plain": [
       "                     Feature_ID #Chromosome  hg38_Start  hg38_End  \\\n",
       "0               chr1:9955-10355        chr1        9955     10355   \n",
       "1              chr1:29163-29563        chr1       29163     29563   \n",
       "2              chr1:79215-79615        chr1       79215     79615   \n",
       "3            chr1:102755-103155        chr1      102755    103155   \n",
       "4            chr1:180580-180980        chr1      180580    180980   \n",
       "...                         ...         ...         ...       ...   \n",
       "1154606  chrY:56676947-56677347        chrY    56676947  56677347   \n",
       "1154607  chrY:56677442-56677842        chrY    56677442  56677842   \n",
       "1154608  chrY:56678029-56678429        chrY    56678029  56678429   \n",
       "1154609  chrY:56678600-56679000        chrY    56678600  56679000   \n",
       "1154610  chrY:56707025-56707425        chrY    56707025  56707425   \n",
       "\n",
       "                     Class Present in fetal tissues Present in adult tissues  \\\n",
       "0        Promoter Proximal                      yes                      yes   \n",
       "1                 Promoter                      yes                      yes   \n",
       "2                   Distal                       no                      yes   \n",
       "3                   Distal                       no                      yes   \n",
       "4        Promoter Proximal                       no                      yes   \n",
       "...                    ...                      ...                      ...   \n",
       "1154606             Distal                      yes                       no   \n",
       "1154607             Distal                      yes                       no   \n",
       "1154608             Distal                      yes                       no   \n",
       "1154609             Distal                      yes                       no   \n",
       "1154610             Distal                      yes                       no   \n",
       "\n",
       "         CRE module  \n",
       "0               146  \n",
       "1                37  \n",
       "2                75  \n",
       "3                51  \n",
       "4               146  \n",
       "...             ...  \n",
       "1154606          37  \n",
       "1154607          37  \n",
       "1154608          37  \n",
       "1154609          37  \n",
       "1154610         147  \n",
       "\n",
       "[1154611 rows x 8 columns]"
      ]
     },
     "execution_count": 18,
     "metadata": {},
     "output_type": "execute_result"
    }
   ],
   "source": [
    "adata.var = adata.var.merge(cCRE_hg38, on='Feature_ID', how='left')\n",
    "adata.var"
   ]
  },
  {
   "cell_type": "markdown",
   "id": "98e74828-caa8-4a6d-aa31-e7824286ee2c",
   "metadata": {},
   "source": [
    "# Interfacing pytorch models"
   ]
  },
  {
   "cell_type": "markdown",
   "id": "e60a9de0-70ab-40b3-b1cb-547dbb11d264",
   "metadata": {},
   "source": [
    "AnnData format can directly interface with pytorch (need to check more on this): https://anndata.readthedocs.io/en/latest/tutorials/notebooks/annloader.html# "
   ]
  },
  {
   "cell_type": "code",
   "execution_count": 19,
   "metadata": {},
   "outputs": [],
   "source": [
    "import torch.nn as nn\n",
    "import pandas as pd\n",
    "from anndata.experimental.pytorch import AnnLoader"
   ]
  },
  {
   "cell_type": "code",
   "execution_count": 20,
   "metadata": {},
   "outputs": [
    {
     "data": {
      "text/plain": [
       "AnnCollection object with n_obs × n_vars = 1323041 × 1154611\n",
       "  constructed from 1 AnnData objects\n",
       "    obs: 'barcodes', 'logUMI', 'tsse', 'tissue', 'cell type', 'Life stage'"
      ]
     },
     "execution_count": 20,
     "metadata": {},
     "output_type": "execute_result"
    }
   ],
   "source": [
    "# Tentatively try the dataloader \n",
    "### NOTE: if this fails, try restart the kernel, see https://github.com/ipython/ipython/issues/13598\n",
    "dataloader = AnnLoader(adata, batch_size=128, shuffle=True)\n",
    "dataloader.dataset"
   ]
  }
 ],
 "metadata": {
  "kernelspec": {
   "display_name": "Python 3 (ipykernel)",
   "language": "python",
   "name": "python3"
  },
  "language_info": {
   "codemirror_mode": {
    "name": "ipython",
    "version": 3
   },
   "file_extension": ".py",
   "mimetype": "text/x-python",
   "name": "python",
   "nbconvert_exporter": "python",
   "pygments_lexer": "ipython3",
   "version": "3.11.5"
  }
 },
 "nbformat": 4,
 "nbformat_minor": 5
}
